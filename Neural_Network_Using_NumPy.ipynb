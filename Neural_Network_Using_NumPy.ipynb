{
  "nbformat": 4,
  "nbformat_minor": 0,
  "metadata": {
    "colab": {
      "name": "Neural Network Using NumPy",
      "provenance": [],
      "collapsed_sections": [],
      "authorship_tag": "ABX9TyM73fq52M5Fs83kaU6DLQ2W",
      "include_colab_link": true
    },
    "kernelspec": {
      "name": "python3",
      "display_name": "Python 3"
    }
  },
  "cells": [
    {
      "cell_type": "markdown",
      "metadata": {
        "id": "view-in-github",
        "colab_type": "text"
      },
      "source": [
        "<a href=\"https://colab.research.google.com/github/AishwaryaVelumani/Deep-Learning/blob/master/Neural_Network_Using_NumPy.ipynb\" target=\"_parent\"><img src=\"https://colab.research.google.com/assets/colab-badge.svg\" alt=\"Open In Colab\"/></a>"
      ]
    },
    {
      "cell_type": "code",
      "metadata": {
        "id": "SEwBgOlSmY4K",
        "colab_type": "code",
        "colab": {}
      },
      "source": [
        "import numpy as np\n",
        "from numpy import exp, array, random, dot"
      ],
      "execution_count": null,
      "outputs": []
    },
    {
      "cell_type": "code",
      "metadata": {
        "id": "q4KcTvK9C2nr",
        "colab_type": "code",
        "colab": {}
      },
      "source": [
        "class NeuralNetwork():\n",
        "    synaptic_weights=np.zeros((3,1))\n",
        "    \n",
        "    def _init_(self):\n",
        "        random.seed(1)\n",
        "        self.synaptic_weights= 2* random.random((3,1))-1\n",
        "        #we model a single neuron with 3 input connections and 1 output connections\n",
        "        #we assign random weights to a 3*1 matrix with values ranging from -1 to 1 with mean 0\n",
        "\n",
        "    def _sigmoid(self,x):\n",
        "        return 1/(1+ exp(-x))\n",
        "        #we pass the weighted sum of the inputs through this function to normalise them btw 0 and 1\n",
        "\n",
        "    def predict(self,inputs):\n",
        "        #pass inputs through our neural network\n",
        "        return self._sigmoid(dot(inputs,self.synaptic_weights))\n",
        "    \n",
        "    def _sigmoid_derivative(self,x):\n",
        "        return x*(1-x)\n",
        "        #gradient of the sigmoid curve\n",
        "\n",
        "    def train(self,training_set_inputs,training_set_outputs,number_of_training_iterations):\n",
        "        for iteration in range(number_of_training_iterations):\n",
        "            #pass the training set through the neural network\n",
        "            output= self.predict(training_set_inputs)\n",
        "            #calculate the error\n",
        "            error= training_set_outputs -output\n",
        "\n",
        "            #multiply the error by the input and again by the sigmoid curve\n",
        "            adjustment= dot(training_set_inputs.T,error * self._sigmoid_derivative(output))\n",
        "\n",
        "            #adjust the weights\n",
        "            self.synaptic_weights+=adjustment\n",
        "\n",
        "\n",
        "    "
      ],
      "execution_count": null,
      "outputs": []
    },
    {
      "cell_type": "code",
      "metadata": {
        "id": "KvXol8sbLagt",
        "colab_type": "code",
        "colab": {
          "base_uri": "https://localhost:8080/",
          "height": 199
        },
        "outputId": "a5433265-cb55-484c-968f-de51fd037a92"
      },
      "source": [
        "neural_network= NeuralNetwork()\n",
        "\n",
        "neural_network._init_()\n",
        "print('Random starting synaptic weights:')\n",
        "print(neural_network.synaptic_weights)\n",
        "\n",
        "\n",
        "training_set_inputs= array([[0,0,1],[1,1,1],[1,0,1],[0,1,1]])\n",
        "training_set_outputs= array([[0,1,1,0]]).T\n",
        "\n",
        "neural_network.train(training_set_inputs,training_set_outputs,10000)\n",
        "\n",
        "print('New synaptic weights after training:')\n",
        "print(neural_network.synaptic_weights)\n",
        "\n",
        "print('Predicting:')\n",
        "print(neural_network.predict(array([1,1,0])))\n"
      ],
      "execution_count": null,
      "outputs": [
        {
          "output_type": "stream",
          "text": [
            "Random starting synaptic weights:\n",
            "[[-0.16595599]\n",
            " [ 0.44064899]\n",
            " [-0.99977125]]\n",
            "New synaptic weights after training:\n",
            "[[ 9.67299303]\n",
            " [-0.2078435 ]\n",
            " [-4.62963669]]\n",
            "Predicting:\n",
            "[0.9999225]\n"
          ],
          "name": "stdout"
        }
      ]
    },
    {
      "cell_type": "code",
      "metadata": {
        "id": "EUOa1FXeMCDS",
        "colab_type": "code",
        "colab": {}
      },
      "source": [
        ""
      ],
      "execution_count": null,
      "outputs": []
    }
  ]
}