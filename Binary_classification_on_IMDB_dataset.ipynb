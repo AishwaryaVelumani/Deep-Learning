{
  "nbformat": 4,
  "nbformat_minor": 0,
  "metadata": {
    "colab": {
      "name": "Binary classification on IMDB dataset",
      "provenance": [],
      "collapsed_sections": [],
      "authorship_tag": "ABX9TyOyAK8FV8hBEQscG/qx+NJp",
      "include_colab_link": true
    },
    "kernelspec": {
      "name": "python3",
      "display_name": "Python 3"
    }
  },
  "cells": [
    {
      "cell_type": "markdown",
      "metadata": {
        "id": "view-in-github",
        "colab_type": "text"
      },
      "source": [
        "<a href=\"https://colab.research.google.com/github/AishwaryaVelumani/Deep-Learning/blob/master/Binary_classification_on_IMDB_dataset.ipynb\" target=\"_parent\"><img src=\"https://colab.research.google.com/assets/colab-badge.svg\" alt=\"Open In Colab\"/></a>"
      ]
    },
    {
      "cell_type": "markdown",
      "metadata": {
        "id": "3KwsoVa1Qz9F"
      },
      "source": [
        "Code Source: DL with Python Book by Francois Chollet"
      ]
    },
    {
      "cell_type": "code",
      "metadata": {
        "id": "TIFSh2-7RBrX",
        "outputId": "5f9986bb-e0ba-4083-9c2a-a04a6a675698",
        "colab": {
          "base_uri": "https://localhost:8080/",
          "height": 54
        }
      },
      "source": [
        "from keras.datasets import imdb\n",
        "(train_data,train_labels),(test_data,test_labels)= imdb.load_data(num_words=10000)"
      ],
      "execution_count": null,
      "outputs": [
        {
          "output_type": "stream",
          "text": [
            "Downloading data from https://storage.googleapis.com/tensorflow/tf-keras-datasets/imdb.npz\n",
            "17465344/17464789 [==============================] - 0s 0us/step\n"
          ],
          "name": "stdout"
        }
      ]
    },
    {
      "cell_type": "code",
      "metadata": {
        "id": "n8h2lRdbQGYF"
      },
      "source": [
        "import numpy as np"
      ],
      "execution_count": null,
      "outputs": []
    },
    {
      "cell_type": "code",
      "metadata": {
        "id": "CRZ1Jn9j-bUz",
        "outputId": "8180f08c-4149-44e5-c497-dd5a161bf40b",
        "colab": {
          "base_uri": "https://localhost:8080/",
          "height": 1000
        }
      },
      "source": [
        "train_data[0]"
      ],
      "execution_count": null,
      "outputs": [
        {
          "output_type": "execute_result",
          "data": {
            "text/plain": [
              "[1,\n",
              " 14,\n",
              " 22,\n",
              " 16,\n",
              " 43,\n",
              " 530,\n",
              " 973,\n",
              " 1622,\n",
              " 1385,\n",
              " 65,\n",
              " 458,\n",
              " 4468,\n",
              " 66,\n",
              " 3941,\n",
              " 4,\n",
              " 173,\n",
              " 36,\n",
              " 256,\n",
              " 5,\n",
              " 25,\n",
              " 100,\n",
              " 43,\n",
              " 838,\n",
              " 112,\n",
              " 50,\n",
              " 670,\n",
              " 2,\n",
              " 9,\n",
              " 35,\n",
              " 480,\n",
              " 284,\n",
              " 5,\n",
              " 150,\n",
              " 4,\n",
              " 172,\n",
              " 112,\n",
              " 167,\n",
              " 2,\n",
              " 336,\n",
              " 385,\n",
              " 39,\n",
              " 4,\n",
              " 172,\n",
              " 4536,\n",
              " 1111,\n",
              " 17,\n",
              " 546,\n",
              " 38,\n",
              " 13,\n",
              " 447,\n",
              " 4,\n",
              " 192,\n",
              " 50,\n",
              " 16,\n",
              " 6,\n",
              " 147,\n",
              " 2025,\n",
              " 19,\n",
              " 14,\n",
              " 22,\n",
              " 4,\n",
              " 1920,\n",
              " 4613,\n",
              " 469,\n",
              " 4,\n",
              " 22,\n",
              " 71,\n",
              " 87,\n",
              " 12,\n",
              " 16,\n",
              " 43,\n",
              " 530,\n",
              " 38,\n",
              " 76,\n",
              " 15,\n",
              " 13,\n",
              " 1247,\n",
              " 4,\n",
              " 22,\n",
              " 17,\n",
              " 515,\n",
              " 17,\n",
              " 12,\n",
              " 16,\n",
              " 626,\n",
              " 18,\n",
              " 2,\n",
              " 5,\n",
              " 62,\n",
              " 386,\n",
              " 12,\n",
              " 8,\n",
              " 316,\n",
              " 8,\n",
              " 106,\n",
              " 5,\n",
              " 4,\n",
              " 2223,\n",
              " 5244,\n",
              " 16,\n",
              " 480,\n",
              " 66,\n",
              " 3785,\n",
              " 33,\n",
              " 4,\n",
              " 130,\n",
              " 12,\n",
              " 16,\n",
              " 38,\n",
              " 619,\n",
              " 5,\n",
              " 25,\n",
              " 124,\n",
              " 51,\n",
              " 36,\n",
              " 135,\n",
              " 48,\n",
              " 25,\n",
              " 1415,\n",
              " 33,\n",
              " 6,\n",
              " 22,\n",
              " 12,\n",
              " 215,\n",
              " 28,\n",
              " 77,\n",
              " 52,\n",
              " 5,\n",
              " 14,\n",
              " 407,\n",
              " 16,\n",
              " 82,\n",
              " 2,\n",
              " 8,\n",
              " 4,\n",
              " 107,\n",
              " 117,\n",
              " 5952,\n",
              " 15,\n",
              " 256,\n",
              " 4,\n",
              " 2,\n",
              " 7,\n",
              " 3766,\n",
              " 5,\n",
              " 723,\n",
              " 36,\n",
              " 71,\n",
              " 43,\n",
              " 530,\n",
              " 476,\n",
              " 26,\n",
              " 400,\n",
              " 317,\n",
              " 46,\n",
              " 7,\n",
              " 4,\n",
              " 2,\n",
              " 1029,\n",
              " 13,\n",
              " 104,\n",
              " 88,\n",
              " 4,\n",
              " 381,\n",
              " 15,\n",
              " 297,\n",
              " 98,\n",
              " 32,\n",
              " 2071,\n",
              " 56,\n",
              " 26,\n",
              " 141,\n",
              " 6,\n",
              " 194,\n",
              " 7486,\n",
              " 18,\n",
              " 4,\n",
              " 226,\n",
              " 22,\n",
              " 21,\n",
              " 134,\n",
              " 476,\n",
              " 26,\n",
              " 480,\n",
              " 5,\n",
              " 144,\n",
              " 30,\n",
              " 5535,\n",
              " 18,\n",
              " 51,\n",
              " 36,\n",
              " 28,\n",
              " 224,\n",
              " 92,\n",
              " 25,\n",
              " 104,\n",
              " 4,\n",
              " 226,\n",
              " 65,\n",
              " 16,\n",
              " 38,\n",
              " 1334,\n",
              " 88,\n",
              " 12,\n",
              " 16,\n",
              " 283,\n",
              " 5,\n",
              " 16,\n",
              " 4472,\n",
              " 113,\n",
              " 103,\n",
              " 32,\n",
              " 15,\n",
              " 16,\n",
              " 5345,\n",
              " 19,\n",
              " 178,\n",
              " 32]"
            ]
          },
          "metadata": {
            "tags": []
          },
          "execution_count": 4
        }
      ]
    },
    {
      "cell_type": "code",
      "metadata": {
        "id": "8ZpHm0RECq5q",
        "outputId": "bd0183e0-3863-4b6a-978e-c4d1935c33f4",
        "colab": {
          "base_uri": "https://localhost:8080/",
          "height": 35
        }
      },
      "source": [
        "train_labels[0]"
      ],
      "execution_count": null,
      "outputs": [
        {
          "output_type": "execute_result",
          "data": {
            "text/plain": [
              "1"
            ]
          },
          "metadata": {
            "tags": []
          },
          "execution_count": 5
        }
      ]
    },
    {
      "cell_type": "code",
      "metadata": {
        "id": "YZOGY9Yb-lip",
        "outputId": "be967df9-8a46-4e1a-9fec-cf0b79900c9d",
        "colab": {
          "base_uri": "https://localhost:8080/",
          "height": 35
        }
      },
      "source": [
        "max([max(sequence) for sequence in train_data])"
      ],
      "execution_count": null,
      "outputs": [
        {
          "output_type": "execute_result",
          "data": {
            "text/plain": [
              "9999"
            ]
          },
          "metadata": {
            "tags": []
          },
          "execution_count": 6
        }
      ]
    },
    {
      "cell_type": "code",
      "metadata": {
        "id": "Y-8r_OPgAN97",
        "outputId": "4b8d2d2b-115e-46b3-d287-522327fa0986",
        "colab": {
          "base_uri": "https://localhost:8080/",
          "height": 54
        }
      },
      "source": [
        "word_index = imdb.get_word_index()\n",
        "reverse_word_index= dict(\n",
        "    [(value,key) for (key,value) in word_index.items()])\n",
        "decoded_review= ''.join(\n",
        "    [reverse_word_index.get(i-3,'?') for i in train_data[0]])"
      ],
      "execution_count": null,
      "outputs": [
        {
          "output_type": "stream",
          "text": [
            "Downloading data from https://storage.googleapis.com/tensorflow/tf-keras-datasets/imdb_word_index.json\n",
            "1646592/1641221 [==============================] - 0s 0us/step\n"
          ],
          "name": "stdout"
        }
      ]
    },
    {
      "cell_type": "code",
      "metadata": {
        "id": "1xSmP9tpQCFs"
      },
      "source": [
        "def vectorize_sequences(sequences,dimension=10000):\n",
        "    results= np.zeros((len(sequences),dimension))\n",
        "    for i,sequence in enumerate(sequences):\n",
        "        results[i,sequence]=1.\n",
        "    return results\n",
        "\n",
        "x_train= vectorize_sequences(train_data)\n",
        "x_test= vectorize_sequences(test_data)"
      ],
      "execution_count": null,
      "outputs": []
    },
    {
      "cell_type": "code",
      "metadata": {
        "id": "MQuD8EoqSCNY",
        "outputId": "e742ed96-81bb-4167-d757-2f23f10e5e88",
        "colab": {
          "base_uri": "https://localhost:8080/",
          "height": 35
        }
      },
      "source": [
        "x_train[0]"
      ],
      "execution_count": null,
      "outputs": [
        {
          "output_type": "execute_result",
          "data": {
            "text/plain": [
              "array([0., 1., 1., ..., 0., 0., 0.])"
            ]
          },
          "metadata": {
            "tags": []
          },
          "execution_count": 9
        }
      ]
    },
    {
      "cell_type": "code",
      "metadata": {
        "id": "4Br5_XSfSEyy"
      },
      "source": [
        "y_train= np.asarray(train_labels).astype('float32')\n",
        "y_test= np.asarray(test_labels).astype('float32')"
      ],
      "execution_count": null,
      "outputs": []
    },
    {
      "cell_type": "code",
      "metadata": {
        "id": "nJDOtLmtTCeH",
        "outputId": "3bd811b4-c41f-420a-c3af-a98c3768518a",
        "colab": {
          "base_uri": "https://localhost:8080/",
          "height": 35
        }
      },
      "source": [
        "type(y_train)"
      ],
      "execution_count": null,
      "outputs": [
        {
          "output_type": "execute_result",
          "data": {
            "text/plain": [
              "numpy.ndarray"
            ]
          },
          "metadata": {
            "tags": []
          },
          "execution_count": 11
        }
      ]
    },
    {
      "cell_type": "code",
      "metadata": {
        "id": "DZJXnn_YTXQ3",
        "outputId": "7cfc4d3e-95f9-492c-f6a1-f76d26cc8478",
        "colab": {
          "base_uri": "https://localhost:8080/",
          "height": 35
        }
      },
      "source": [
        "type(x_train)"
      ],
      "execution_count": null,
      "outputs": [
        {
          "output_type": "execute_result",
          "data": {
            "text/plain": [
              "numpy.ndarray"
            ]
          },
          "metadata": {
            "tags": []
          },
          "execution_count": 12
        }
      ]
    },
    {
      "cell_type": "code",
      "metadata": {
        "id": "3Z7eTvRUTa1y"
      },
      "source": [
        "from keras import models \n",
        "from keras import layers"
      ],
      "execution_count": null,
      "outputs": []
    },
    {
      "cell_type": "code",
      "metadata": {
        "id": "1DV4FjRiVw2x"
      },
      "source": [
        "omodel= models.Sequential()\n",
        "omodel.add(layers.Dense(16,activation='relu',input_shape=(10000,)))\n",
        "omodel.add(layers.Dense(16,activation='relu'))\n",
        "omodel.add(layers.Dense(1,activation='sigmoid'))"
      ],
      "execution_count": null,
      "outputs": []
    },
    {
      "cell_type": "code",
      "metadata": {
        "id": "0PqrgR2oW0QK"
      },
      "source": [
        "#model.compile(optimizer='rmsprop',\n",
        " #             loss='binary_crossentropy',\n",
        "  #            metrics=['accuracy'])"
      ],
      "execution_count": null,
      "outputs": []
    },
    {
      "cell_type": "code",
      "metadata": {
        "id": "5f0PdYafYPTF"
      },
      "source": [
        "from keras import losses\n",
        "from keras import metrics\n",
        "from keras import optimizers\n",
        "\n",
        "omodel.compile(optimizer=optimizers.RMSprop(lr=0.001),\n",
        "              loss=losses.binary_crossentropy,\n",
        "              metrics=[metrics.binary_accuracy])"
      ],
      "execution_count": null,
      "outputs": []
    },
    {
      "cell_type": "code",
      "metadata": {
        "id": "ux0TRA4sZ_IT"
      },
      "source": [
        "x_val=x_train[:10000]\n",
        "partial_x_train= x_train[10000:]\n",
        "y_val=y_train[:10000]\n",
        "partial_y_train= y_train[10000:]"
      ],
      "execution_count": null,
      "outputs": []
    },
    {
      "cell_type": "code",
      "metadata": {
        "id": "CdGU9Rz7as9z",
        "outputId": "6e700bcc-81fd-4a38-f364-124710fb46c2",
        "colab": {
          "base_uri": "https://localhost:8080/",
          "height": 745
        }
      },
      "source": [
        "ohistory= omodel.fit(partial_x_train,\n",
        "                   partial_y_train,\n",
        "                   epochs=20,\n",
        "                   batch_size=512,\n",
        "                   validation_data=(x_val,y_val))"
      ],
      "execution_count": null,
      "outputs": [
        {
          "output_type": "stream",
          "text": [
            "Epoch 1/20\n",
            "30/30 [==============================] - 1s 43ms/step - loss: 0.5316 - binary_accuracy: 0.7777 - val_loss: 0.4237 - val_binary_accuracy: 0.8435\n",
            "Epoch 2/20\n",
            "30/30 [==============================] - 1s 30ms/step - loss: 0.3244 - binary_accuracy: 0.8992 - val_loss: 0.3202 - val_binary_accuracy: 0.8799\n",
            "Epoch 3/20\n",
            "30/30 [==============================] - 1s 29ms/step - loss: 0.2387 - binary_accuracy: 0.9231 - val_loss: 0.2843 - val_binary_accuracy: 0.8894\n",
            "Epoch 4/20\n",
            "30/30 [==============================] - 1s 30ms/step - loss: 0.1863 - binary_accuracy: 0.9390 - val_loss: 0.2744 - val_binary_accuracy: 0.8913\n",
            "Epoch 5/20\n",
            "30/30 [==============================] - 1s 30ms/step - loss: 0.1505 - binary_accuracy: 0.9524 - val_loss: 0.2861 - val_binary_accuracy: 0.8869\n",
            "Epoch 6/20\n",
            "30/30 [==============================] - 1s 29ms/step - loss: 0.1250 - binary_accuracy: 0.9607 - val_loss: 0.2877 - val_binary_accuracy: 0.8853\n",
            "Epoch 7/20\n",
            "30/30 [==============================] - 1s 30ms/step - loss: 0.1042 - binary_accuracy: 0.9693 - val_loss: 0.3085 - val_binary_accuracy: 0.8822\n",
            "Epoch 8/20\n",
            "30/30 [==============================] - 1s 29ms/step - loss: 0.0849 - binary_accuracy: 0.9766 - val_loss: 0.3230 - val_binary_accuracy: 0.8828\n",
            "Epoch 9/20\n",
            "30/30 [==============================] - 1s 30ms/step - loss: 0.0700 - binary_accuracy: 0.9813 - val_loss: 0.3790 - val_binary_accuracy: 0.8691\n",
            "Epoch 10/20\n",
            "30/30 [==============================] - 1s 29ms/step - loss: 0.0598 - binary_accuracy: 0.9846 - val_loss: 0.3698 - val_binary_accuracy: 0.8796\n",
            "Epoch 11/20\n",
            "30/30 [==============================] - 1s 29ms/step - loss: 0.0471 - binary_accuracy: 0.9894 - val_loss: 0.3906 - val_binary_accuracy: 0.8784\n",
            "Epoch 12/20\n",
            "30/30 [==============================] - 1s 31ms/step - loss: 0.0386 - binary_accuracy: 0.9918 - val_loss: 0.4203 - val_binary_accuracy: 0.8751\n",
            "Epoch 13/20\n",
            "30/30 [==============================] - 1s 33ms/step - loss: 0.0301 - binary_accuracy: 0.9946 - val_loss: 0.4524 - val_binary_accuracy: 0.8738\n",
            "Epoch 14/20\n",
            "30/30 [==============================] - 1s 32ms/step - loss: 0.0234 - binary_accuracy: 0.9961 - val_loss: 0.4861 - val_binary_accuracy: 0.8732\n",
            "Epoch 15/20\n",
            "30/30 [==============================] - 1s 31ms/step - loss: 0.0189 - binary_accuracy: 0.9971 - val_loss: 0.5310 - val_binary_accuracy: 0.8706\n",
            "Epoch 16/20\n",
            "30/30 [==============================] - 1s 31ms/step - loss: 0.0142 - binary_accuracy: 0.9984 - val_loss: 0.5979 - val_binary_accuracy: 0.8592\n",
            "Epoch 17/20\n",
            "30/30 [==============================] - 1s 33ms/step - loss: 0.0114 - binary_accuracy: 0.9988 - val_loss: 0.5996 - val_binary_accuracy: 0.8700\n",
            "Epoch 18/20\n",
            "30/30 [==============================] - 1s 33ms/step - loss: 0.0071 - binary_accuracy: 0.9997 - val_loss: 0.6336 - val_binary_accuracy: 0.8666\n",
            "Epoch 19/20\n",
            "30/30 [==============================] - 1s 32ms/step - loss: 0.0065 - binary_accuracy: 0.9997 - val_loss: 0.6661 - val_binary_accuracy: 0.8666\n",
            "Epoch 20/20\n",
            "30/30 [==============================] - 1s 32ms/step - loss: 0.0046 - binary_accuracy: 0.9997 - val_loss: 0.7071 - val_binary_accuracy: 0.8662\n"
          ],
          "name": "stdout"
        }
      ]
    },
    {
      "cell_type": "code",
      "metadata": {
        "id": "ZyVn4j6Cbe52",
        "outputId": "a2ffbd1a-369f-432a-e12a-530c48165ee7",
        "colab": {
          "base_uri": "https://localhost:8080/",
          "height": 35
        }
      },
      "source": [
        "ohistory_dict= ohistory.history\n",
        "ohistory_dict.keys()"
      ],
      "execution_count": null,
      "outputs": [
        {
          "output_type": "execute_result",
          "data": {
            "text/plain": [
              "dict_keys(['loss', 'binary_accuracy', 'val_loss', 'val_binary_accuracy'])"
            ]
          },
          "metadata": {
            "tags": []
          },
          "execution_count": 19
        }
      ]
    },
    {
      "cell_type": "code",
      "metadata": {
        "id": "av4haBAzb0fR",
        "outputId": "4e2cdc87-290b-4eb9-b5bb-3b5fd6d713f8",
        "colab": {
          "base_uri": "https://localhost:8080/",
          "height": 295
        }
      },
      "source": [
        "import matplotlib.pyplot as plt\n",
        "\n",
        "loss_values= ohistory_dict['loss']\n",
        "val_loss_values=ohistory_dict['val_loss']\n",
        "acc= ohistory_dict['binary_accuracy']\n",
        "val_acc= ohistory_dict['val_binary_accuracy']\n",
        "\n",
        "epochs=range(1,len(acc)+1)\n",
        "\n",
        "plt.plot(epochs,loss_values,'bo',label='Training loss')\n",
        "plt.plot(epochs,val_loss_values,'r',label='Validation loss')\n",
        "plt.title('Training and Validation loss')\n",
        "plt.xlabel('Epochs')\n",
        "plt.ylabel('Loss')\n",
        "plt.legend()\n",
        "\n",
        "plt.show()"
      ],
      "execution_count": null,
      "outputs": [
        {
          "output_type": "display_data",
          "data": {
            "image/png": "[encoded data removed]",
            "text/plain": [
              "<Figure size 432x288 with 1 Axes>"
            ]
          },
          "metadata": {
            "tags": [],
            "needs_background": "light"
          }
        }
      ]
    },
    {
      "cell_type": "code",
      "metadata": {
        "id": "lwV3aSW0dAtG",
        "outputId": "fbfba9d8-3ffe-4f07-d7c3-2af316f50f80",
        "colab": {
          "base_uri": "https://localhost:8080/",
          "height": 295
        }
      },
      "source": [
        "plt.clf()\n",
        "acc_values= ohistory_dict['binary_accuracy']\n",
        "val_acc_values= ohistory_dict['val_binary_accuracy']\n",
        "\n",
        "plt.plot(epochs,acc,'bo',label='Training acc')\n",
        "plt.plot(epochs,val_acc,'r',label='Validation acc')\n",
        "plt.title('Training and validation accuracy')\n",
        "plt.xlabel('Epochs')\n",
        "plt.ylabel('Loss')\n",
        "plt.legend()\n",
        "\n",
        "plt.show()"
      ],
      "execution_count": null,
      "outputs": [
        {
          "output_type": "display_data",
          "data": {
            "image/png": "[encoded data removed]",
            "text/plain": [
              "<Figure size 432x288 with 1 Axes>"
            ]
          },
          "metadata": {
            "tags": [],
            "needs_background": "light"
          }
        }
      ]
    },
    {
      "cell_type": "code",
      "metadata": {
        "id": "32uXKuIahaqO"
      },
      "source": [
        "#model.fit(x_train,y_train,epochs=4,batch_size=512)\n",
        "#results= model.evaluate(x_test,y_test)"
      ],
      "execution_count": null,
      "outputs": []
    },
    {
      "cell_type": "code",
      "metadata": {
        "id": "s3ft9X76uG44"
      },
      "source": [
        ""
      ],
      "execution_count": null,
      "outputs": []
    },
    {
      "cell_type": "code",
      "metadata": {
        "id": "grK5lO6nvUPO"
      },
      "source": [
        "#model1.predict(x_test)"
      ],
      "execution_count": null,
      "outputs": []
    },
    {
      "cell_type": "markdown",
      "metadata": {
        "id": "lBUhVUVyRefg"
      },
      "source": [
        "Overfitting and underfitting (pg 104)\n",
        "\n"
      ]
    },
    {
      "cell_type": "code",
      "metadata": {
        "id": "oNbAvKUYQvuY"
      },
      "source": [
        "smodel= models.Sequential()\n",
        "smodel.add(layers.Dense(4,activation='relu', input_shape=(10000,)))\n",
        "smodel.add(layers.Dense(4,activation='relu'))\n",
        "smodel.add(layers.Dense(1,activation='sigmoid'))"
      ],
      "execution_count": null,
      "outputs": []
    },
    {
      "cell_type": "code",
      "metadata": {
        "id": "tSRyDd5Hj-Kh"
      },
      "source": [
        "smodel.compile(optimizer=optimizers.RMSprop(lr=0.001),\n",
        "              loss=losses.binary_crossentropy,\n",
        "              metrics=[metrics.binary_accuracy])"
      ],
      "execution_count": null,
      "outputs": []
    },
    {
      "cell_type": "code",
      "metadata": {
        "id": "6orGXy3Cxx4I",
        "outputId": "3b135edc-1509-42f2-9d69-5a7b1175efe4",
        "colab": {
          "base_uri": "https://localhost:8080/",
          "height": 745
        }
      },
      "source": [
        "shistory= smodel.fit(partial_x_train,\n",
        "                   partial_y_train,\n",
        "                   epochs=20,\n",
        "                   batch_size=512,\n",
        "                   validation_data=(x_val,y_val))"
      ],
      "execution_count": null,
      "outputs": [
        {
          "output_type": "stream",
          "text": [
            "Epoch 1/20\n",
            "30/30 [==============================] - 2s 52ms/step - loss: 0.6341 - binary_accuracy: 0.6752 - val_loss: 0.5928 - val_binary_accuracy: 0.7556\n",
            "Epoch 2/20\n",
            "30/30 [==============================] - 1s 35ms/step - loss: 0.5573 - binary_accuracy: 0.7781 - val_loss: 0.5506 - val_binary_accuracy: 0.8047\n",
            "Epoch 3/20\n",
            "30/30 [==============================] - 1s 36ms/step - loss: 0.5118 - binary_accuracy: 0.8308 - val_loss: 0.5197 - val_binary_accuracy: 0.8292\n",
            "Epoch 4/20\n",
            "30/30 [==============================] - 1s 36ms/step - loss: 0.4769 - binary_accuracy: 0.8660 - val_loss: 0.5072 - val_binary_accuracy: 0.7897\n",
            "Epoch 5/20\n",
            "30/30 [==============================] - 1s 36ms/step - loss: 0.4497 - binary_accuracy: 0.8832 - val_loss: 0.4808 - val_binary_accuracy: 0.8596\n",
            "Epoch 6/20\n",
            "30/30 [==============================] - 1s 34ms/step - loss: 0.4257 - binary_accuracy: 0.9053 - val_loss: 0.4682 - val_binary_accuracy: 0.8553\n",
            "Epoch 7/20\n",
            "30/30 [==============================] - 1s 34ms/step - loss: 0.4038 - binary_accuracy: 0.9205 - val_loss: 0.4546 - val_binary_accuracy: 0.8777\n",
            "Epoch 8/20\n",
            "30/30 [==============================] - 1s 35ms/step - loss: 0.3850 - binary_accuracy: 0.9327 - val_loss: 0.4595 - val_binary_accuracy: 0.8509\n",
            "Epoch 9/20\n",
            "30/30 [==============================] - 1s 35ms/step - loss: 0.3689 - binary_accuracy: 0.9427 - val_loss: 0.4571 - val_binary_accuracy: 0.8516\n",
            "Epoch 10/20\n",
            "30/30 [==============================] - 1s 36ms/step - loss: 0.3536 - binary_accuracy: 0.9493 - val_loss: 0.4568 - val_binary_accuracy: 0.8522\n",
            "Epoch 11/20\n",
            "30/30 [==============================] - 1s 36ms/step - loss: 0.3402 - binary_accuracy: 0.9555 - val_loss: 0.4390 - val_binary_accuracy: 0.8712\n",
            "Epoch 12/20\n",
            "30/30 [==============================] - 1s 42ms/step - loss: 0.3272 - binary_accuracy: 0.9617 - val_loss: 0.4354 - val_binary_accuracy: 0.8739\n",
            "Epoch 13/20\n",
            "30/30 [==============================] - 1s 43ms/step - loss: 0.3154 - binary_accuracy: 0.9657 - val_loss: 0.4409 - val_binary_accuracy: 0.8699\n",
            "Epoch 14/20\n",
            "30/30 [==============================] - 1s 46ms/step - loss: 0.3047 - binary_accuracy: 0.9693 - val_loss: 0.4573 - val_binary_accuracy: 0.8586\n",
            "Epoch 15/20\n",
            "30/30 [==============================] - 1s 43ms/step - loss: 0.2936 - binary_accuracy: 0.9739 - val_loss: 0.4408 - val_binary_accuracy: 0.8700\n",
            "Epoch 16/20\n",
            "30/30 [==============================] - 1s 43ms/step - loss: 0.2838 - binary_accuracy: 0.9771 - val_loss: 0.4791 - val_binary_accuracy: 0.8532\n",
            "Epoch 17/20\n",
            "30/30 [==============================] - 1s 39ms/step - loss: 0.2750 - binary_accuracy: 0.9791 - val_loss: 0.4707 - val_binary_accuracy: 0.8594\n",
            "Epoch 18/20\n",
            "30/30 [==============================] - 1s 39ms/step - loss: 0.2655 - binary_accuracy: 0.9822 - val_loss: 0.4644 - val_binary_accuracy: 0.8632\n",
            "Epoch 19/20\n",
            "30/30 [==============================] - 1s 35ms/step - loss: 0.2572 - binary_accuracy: 0.9842 - val_loss: 0.4774 - val_binary_accuracy: 0.8612\n",
            "Epoch 20/20\n",
            "30/30 [==============================] - 1s 36ms/step - loss: 0.2493 - binary_accuracy: 0.9857 - val_loss: 0.4731 - val_binary_accuracy: 0.8635\n"
          ],
          "name": "stdout"
        }
      ]
    },
    {
      "cell_type": "code",
      "metadata": {
        "id": "9RAmuW3Gx4Ye",
        "outputId": "619e9fca-36dd-4669-d535-7df8b3aa5cf9",
        "colab": {
          "base_uri": "https://localhost:8080/",
          "height": 35
        }
      },
      "source": [
        "shistory_dict= shistory.history\n",
        "shistory_dict.keys()"
      ],
      "execution_count": null,
      "outputs": [
        {
          "output_type": "execute_result",
          "data": {
            "text/plain": [
              "dict_keys(['loss', 'binary_accuracy', 'val_loss', 'val_binary_accuracy'])"
            ]
          },
          "metadata": {
            "tags": []
          },
          "execution_count": 27
        }
      ]
    },
    {
      "cell_type": "code",
      "metadata": {
        "id": "dhpDW4tv1LRP",
        "outputId": "37cbb51b-ea8c-4a55-9ac6-4ce1310833a7",
        "colab": {
          "base_uri": "https://localhost:8080/",
          "height": 328
        }
      },
      "source": [
        "bmodel= models.Sequential()\n",
        "bmodel.add(layers.Dense(512,activation='relu', input_shape=(10000,)))\n",
        "bmodel.add(layers.Dense(512,activation='relu'))\n",
        "bmodel.add(layers.Dense(1,activation='sigmoid'))\n",
        "\n",
        "bmodel.compile(optimizer=optimizers.RMSprop(lr=0.001),\n",
        "               loss=losses.binary_crossentropy,\n",
        "               metrics=[metrics.binary_accuracy])\n",
        "\n",
        "bhistory= bmodel.fit(partial_x_train,\n",
        "                     partial_y_train,\n",
        "                     epochs=20,\n",
        "                     batch_size=512,\n",
        "                     validation_data=(x_val,y_val))"
      ],
      "execution_count": null,
      "outputs": [
        {
          "output_type": "stream",
          "text": [
            "Epoch 1/20\n",
            "30/30 [==============================] - 10s 330ms/step - loss: 0.5445 - binary_accuracy: 0.7603 - val_loss: 0.3176 - val_binary_accuracy: 0.8805\n",
            "Epoch 2/20\n",
            "30/30 [==============================] - 10s 329ms/step - loss: 0.2412 - binary_accuracy: 0.9075 - val_loss: 0.3250 - val_binary_accuracy: 0.8620\n",
            "Epoch 3/20\n",
            "30/30 [==============================] - 10s 336ms/step - loss: 0.1482 - binary_accuracy: 0.9449 - val_loss: 0.3284 - val_binary_accuracy: 0.8834\n",
            "Epoch 4/20\n",
            "30/30 [==============================] - 10s 334ms/step - loss: 0.0952 - binary_accuracy: 0.9706 - val_loss: 0.3322 - val_binary_accuracy: 0.8913\n",
            "Epoch 5/20\n",
            "30/30 [==============================] - 10s 332ms/step - loss: 0.0120 - binary_accuracy: 0.9976 - val_loss: 0.5495 - val_binary_accuracy: 0.8779\n",
            "Epoch 6/20\n",
            "30/30 [==============================] - 10s 324ms/step - loss: 0.0013 - binary_accuracy: 0.9999 - val_loss: 0.5916 - val_binary_accuracy: 0.8865\n",
            "Epoch 7/20\n",
            "30/30 [==============================] - 10s 332ms/step - loss: 1.0639e-04 - binary_accuracy: 1.0000 - val_loss: 0.7016 - val_binary_accuracy: 0.8858\n",
            "Epoch 8/20\n",
            "28/30 [===========================>..] - ETA: 0s - loss: 1.5311e-05 - binary_accuracy: 1.0000"
          ],
          "name": "stdout"
        }
      ]
    },
    {
      "cell_type": "code",
      "metadata": {
        "id": "ZXxs1H-43OUG"
      },
      "source": [
        "bhistory_dict= bhistory.history\n",
        "bhistory_dict.keys()"
      ],
      "execution_count": null,
      "outputs": []
    },
    {
      "cell_type": "code",
      "metadata": {
        "id": "MPT6_xXhyNnK"
      },
      "source": [
        "s_val_loss_values=shistory_dict['val_loss']\n",
        "b_val_loss_values= bhistory_dict['val_loss']\n",
        "\n",
        "epochs=range(1,len(acc)+1)\n",
        "\n",
        "plt.plot(epochs,s_val_loss_values,'bo',label='Smaller network')\n",
        "plt.plot(epochs,val_loss_values,'ro',label='Original network')\n",
        "plt.plot(epochs,b_val_loss_values,'go',label='Bigger network')\n",
        "plt.title(\"Validation losses of models\")\n",
        "plt.xlabel('Epochs')\n",
        "plt.ylabel('Validation loss')\n",
        "plt.legend()"
      ],
      "execution_count": null,
      "outputs": []
    },
    {
      "cell_type": "markdown",
      "metadata": {
        "id": "Lgc_z6yD_oI0"
      },
      "source": [
        "# Adding L2 weight regularization to the model"
      ]
    },
    {
      "cell_type": "code",
      "metadata": {
        "id": "AfcvBxolzeX4"
      },
      "source": [
        "from keras import regularizers\n",
        "wmodel= models.Sequential()\n",
        "wmodel.add(layers.Dense(16,kernel_regularizer=regularizers.l2(0.001),\n",
        "                        activation='relu',\n",
        "                        input_shape=(10000,)))\n",
        "wmodel.add(layers.Dense(16,kernel_regularizer=regularizers.l2(0.001),\n",
        "                        activation='relu'))\n",
        "wmodel.add(layers.Dense(1,activation='sigmoid'))"
      ],
      "execution_count": null,
      "outputs": []
    },
    {
      "cell_type": "code",
      "metadata": {
        "id": "NfI1f2YHDfLa"
      },
      "source": [
        "wmodel.compile(optimizer=optimizers.RMSprop(lr=0.001),\n",
        "               loss=losses.binary_crossentropy,\n",
        "               metrics=[metrics.binary_accuracy])\n",
        "\n",
        "whistory= wmodel.fit(partial_x_train,\n",
        "                     partial_y_train,\n",
        "                     epochs=20,\n",
        "                     batch_size=512,\n",
        "                     validation_data=(x_val,y_val))"
      ],
      "execution_count": null,
      "outputs": []
    },
    {
      "cell_type": "code",
      "metadata": {
        "id": "kooIda8uEWOV"
      },
      "source": [
        "whistory_dict= whistory.history\n",
        "whistory_dict.keys()"
      ],
      "execution_count": null,
      "outputs": []
    },
    {
      "cell_type": "code",
      "metadata": {
        "id": "bxvrzJOsEx9n"
      },
      "source": [
        "w_val_loss_values= whistory_dict['val_loss']\n",
        "\n",
        "epochs= range(1,len(acc)+1)\n",
        "\n",
        "plt.plot(epochs,w_val_loss_values,'bo',label='L2 regularized network')\n",
        "plt.plot(epochs,val_loss_values,'ro',label='Original network')\n",
        "plt.title(\"Validation losses of models\")\n",
        "plt.xlabel('Epochs')\n",
        "plt.ylabel('Validation loss')\n",
        "plt.legend()"
      ],
      "execution_count": null,
      "outputs": []
    },
    {
      "cell_type": "code",
      "metadata": {
        "id": "R49-n2zUGHSR"
      },
      "source": [
        "regularizers.l1(0.001)\n",
        "regularizers.l1_l2(l1=0.001, l2=0.001)"
      ],
      "execution_count": null,
      "outputs": []
    },
    {
      "cell_type": "markdown",
      "metadata": {
        "id": "OJ7Dmlz4NWOS"
      },
      "source": [
        "# Adding dropout"
      ]
    },
    {
      "cell_type": "code",
      "metadata": {
        "id": "-f1wuEHAHA5U"
      },
      "source": [
        "dmodel= models.Sequential()\n",
        "dmodel.add(layers.Dense(16,activation='relu',input_shape=(10000,)))\n",
        "dmodel.add(layers.Dropout(0.5))\n",
        "dmodel.add(layers.Dense(16,activation='relu'))\n",
        "dmodel.add(layers.Dropout(0.5))\n",
        "dmodel.add(layers.Dense(1,activation='sigmoid'))"
      ],
      "execution_count": null,
      "outputs": []
    },
    {
      "cell_type": "code",
      "metadata": {
        "id": "PKkPdB2iOi7Z"
      },
      "source": [
        "wmodel.compile(optimizer=optimizers.RMSprop(lr=0.001),\n",
        "               loss=losses.binary_crossentropy,\n",
        "               metrics=[metrics.binary_accuracy])\n",
        "\n",
        "whistory= wmodel.fit(partial_x_train,\n",
        "                     partial_y_train,\n",
        "                     epochs=20,\n",
        "                     batch_size=512,\n",
        "                     validation_data=(x_val,y_val))"
      ],
      "execution_count": null,
      "outputs": []
    },
    {
      "cell_type": "code",
      "metadata": {
        "id": "--7-mdexOrNR"
      },
      "source": [
        "dmodel.compile(optimizer=optimizers.RMSprop(lr=0.001),)"
      ],
      "execution_count": null,
      "outputs": []
    },
    {
      "cell_type": "code",
      "metadata": {
        "id": "kpb-bDApOXeE"
      },
      "source": [
        ""
      ],
      "execution_count": null,
      "outputs": []
    }
  ]
}