{
  "nbformat": 4,
  "nbformat_minor": 0,
  "metadata": {
    "colab": {
      "name": "Binary classification on IMDB dataset",
      "provenance": [],
      "collapsed_sections": [],
      "authorship_tag": "ABX9TyNd9r2LBzDFXpOCRZVnhbAg",
      "include_colab_link": true
    },
    "kernelspec": {
      "name": "python3",
      "display_name": "Python 3"
    }
  },
  "cells": [
    {
      "cell_type": "markdown",
      "metadata": {
        "id": "view-in-github",
        "colab_type": "text"
      },
      "source": [
        "<a href=\"https://colab.research.google.com/github/AishwaryaVelumani/Deep-Learning/blob/master/Binary_classification_on_IMDB_dataset.ipynb\" target=\"_parent\"><img src=\"https://colab.research.google.com/assets/colab-badge.svg\" alt=\"Open In Colab\"/></a>"
      ]
    },
    {
      "cell_type": "markdown",
      "metadata": {
        "id": "3KwsoVa1Qz9F"
      },
      "source": [
        "Code Source: DL with Python Book by Francois Chollet"
      ]
    },
    {
      "cell_type": "code",
      "metadata": {
        "id": "TIFSh2-7RBrX",
        "outputId": "5b1547b7-cba0-4f38-c83c-52005774fd2c",
        "colab": {
          "base_uri": "https://localhost:8080/",
          "height": 54
        }
      },
      "source": [
        "from keras.datasets import imdb\n",
        "(train_data,train_labels),(test_data,test_labels)= imdb.load_data(num_words=10000)"
      ],
      "execution_count": null,
      "outputs": [
        {
          "output_type": "stream",
          "text": [
            "Downloading data from https://storage.googleapis.com/tensorflow/tf-keras-datasets/imdb.npz\n",
            "17465344/17464789 [==============================] - 0s 0us/step\n"
          ],
          "name": "stdout"
        }
      ]
    },
    {
      "cell_type": "code",
      "metadata": {
        "id": "n8h2lRdbQGYF"
      },
      "source": [
        "import numpy as np"
      ],
      "execution_count": null,
      "outputs": []
    },
    {
      "cell_type": "code",
      "metadata": {
        "id": "CRZ1Jn9j-bUz",
        "outputId": "af476e80-3a35-49a2-ee12-60f6cbb75bcd",
        "colab": {
          "base_uri": "https://localhost:8080/",
          "height": 1000
        }
      },
      "source": [
        "train_data[0]"
      ],
      "execution_count": null,
      "outputs": [
        {
          "output_type": "execute_result",
          "data": {
            "text/plain": [
              "[1,\n",
              " 14,\n",
              " 22,\n",
              " 16,\n",
              " 43,\n",
              " 530,\n",
              " 973,\n",
              " 1622,\n",
              " 1385,\n",
              " 65,\n",
              " 458,\n",
              " 4468,\n",
              " 66,\n",
              " 3941,\n",
              " 4,\n",
              " 173,\n",
              " 36,\n",
              " 256,\n",
              " 5,\n",
              " 25,\n",
              " 100,\n",
              " 43,\n",
              " 838,\n",
              " 112,\n",
              " 50,\n",
              " 670,\n",
              " 2,\n",
              " 9,\n",
              " 35,\n",
              " 480,\n",
              " 284,\n",
              " 5,\n",
              " 150,\n",
              " 4,\n",
              " 172,\n",
              " 112,\n",
              " 167,\n",
              " 2,\n",
              " 336,\n",
              " 385,\n",
              " 39,\n",
              " 4,\n",
              " 172,\n",
              " 4536,\n",
              " 1111,\n",
              " 17,\n",
              " 546,\n",
              " 38,\n",
              " 13,\n",
              " 447,\n",
              " 4,\n",
              " 192,\n",
              " 50,\n",
              " 16,\n",
              " 6,\n",
              " 147,\n",
              " 2025,\n",
              " 19,\n",
              " 14,\n",
              " 22,\n",
              " 4,\n",
              " 1920,\n",
              " 4613,\n",
              " 469,\n",
              " 4,\n",
              " 22,\n",
              " 71,\n",
              " 87,\n",
              " 12,\n",
              " 16,\n",
              " 43,\n",
              " 530,\n",
              " 38,\n",
              " 76,\n",
              " 15,\n",
              " 13,\n",
              " 1247,\n",
              " 4,\n",
              " 22,\n",
              " 17,\n",
              " 515,\n",
              " 17,\n",
              " 12,\n",
              " 16,\n",
              " 626,\n",
              " 18,\n",
              " 2,\n",
              " 5,\n",
              " 62,\n",
              " 386,\n",
              " 12,\n",
              " 8,\n",
              " 316,\n",
              " 8,\n",
              " 106,\n",
              " 5,\n",
              " 4,\n",
              " 2223,\n",
              " 5244,\n",
              " 16,\n",
              " 480,\n",
              " 66,\n",
              " 3785,\n",
              " 33,\n",
              " 4,\n",
              " 130,\n",
              " 12,\n",
              " 16,\n",
              " 38,\n",
              " 619,\n",
              " 5,\n",
              " 25,\n",
              " 124,\n",
              " 51,\n",
              " 36,\n",
              " 135,\n",
              " 48,\n",
              " 25,\n",
              " 1415,\n",
              " 33,\n",
              " 6,\n",
              " 22,\n",
              " 12,\n",
              " 215,\n",
              " 28,\n",
              " 77,\n",
              " 52,\n",
              " 5,\n",
              " 14,\n",
              " 407,\n",
              " 16,\n",
              " 82,\n",
              " 2,\n",
              " 8,\n",
              " 4,\n",
              " 107,\n",
              " 117,\n",
              " 5952,\n",
              " 15,\n",
              " 256,\n",
              " 4,\n",
              " 2,\n",
              " 7,\n",
              " 3766,\n",
              " 5,\n",
              " 723,\n",
              " 36,\n",
              " 71,\n",
              " 43,\n",
              " 530,\n",
              " 476,\n",
              " 26,\n",
              " 400,\n",
              " 317,\n",
              " 46,\n",
              " 7,\n",
              " 4,\n",
              " 2,\n",
              " 1029,\n",
              " 13,\n",
              " 104,\n",
              " 88,\n",
              " 4,\n",
              " 381,\n",
              " 15,\n",
              " 297,\n",
              " 98,\n",
              " 32,\n",
              " 2071,\n",
              " 56,\n",
              " 26,\n",
              " 141,\n",
              " 6,\n",
              " 194,\n",
              " 7486,\n",
              " 18,\n",
              " 4,\n",
              " 226,\n",
              " 22,\n",
              " 21,\n",
              " 134,\n",
              " 476,\n",
              " 26,\n",
              " 480,\n",
              " 5,\n",
              " 144,\n",
              " 30,\n",
              " 5535,\n",
              " 18,\n",
              " 51,\n",
              " 36,\n",
              " 28,\n",
              " 224,\n",
              " 92,\n",
              " 25,\n",
              " 104,\n",
              " 4,\n",
              " 226,\n",
              " 65,\n",
              " 16,\n",
              " 38,\n",
              " 1334,\n",
              " 88,\n",
              " 12,\n",
              " 16,\n",
              " 283,\n",
              " 5,\n",
              " 16,\n",
              " 4472,\n",
              " 113,\n",
              " 103,\n",
              " 32,\n",
              " 15,\n",
              " 16,\n",
              " 5345,\n",
              " 19,\n",
              " 178,\n",
              " 32]"
            ]
          },
          "metadata": {
            "tags": []
          },
          "execution_count": 3
        }
      ]
    },
    {
      "cell_type": "code",
      "metadata": {
        "id": "8ZpHm0RECq5q",
        "outputId": "587a2559-6c63-42e8-9372-776d12df4ce2",
        "colab": {
          "base_uri": "https://localhost:8080/",
          "height": 35
        }
      },
      "source": [
        "train_labels[0]"
      ],
      "execution_count": null,
      "outputs": [
        {
          "output_type": "execute_result",
          "data": {
            "text/plain": [
              "1"
            ]
          },
          "metadata": {
            "tags": []
          },
          "execution_count": 4
        }
      ]
    },
    {
      "cell_type": "code",
      "metadata": {
        "id": "YZOGY9Yb-lip",
        "outputId": "038feca7-9bec-40d6-e16a-01b83bc7e8f4",
        "colab": {
          "base_uri": "https://localhost:8080/",
          "height": 35
        }
      },
      "source": [
        "max([max(sequence) for sequence in train_data])"
      ],
      "execution_count": null,
      "outputs": [
        {
          "output_type": "execute_result",
          "data": {
            "text/plain": [
              "9999"
            ]
          },
          "metadata": {
            "tags": []
          },
          "execution_count": 5
        }
      ]
    },
    {
      "cell_type": "code",
      "metadata": {
        "id": "Y-8r_OPgAN97",
        "outputId": "c92b2d4f-9107-433e-aa7b-62e847ab86c5",
        "colab": {
          "base_uri": "https://localhost:8080/",
          "height": 54
        }
      },
      "source": [
        "word_index = imdb.get_word_index()\n",
        "reverse_word_index= dict(\n",
        "    [(value,key) for (key,value) in word_index.items()])\n",
        "decoded_review= ''.join(\n",
        "    [reverse_word_index.get(i-3,'?') for i in train_data[0]])"
      ],
      "execution_count": null,
      "outputs": [
        {
          "output_type": "stream",
          "text": [
            "Downloading data from https://storage.googleapis.com/tensorflow/tf-keras-datasets/imdb_word_index.json\n",
            "1646592/1641221 [==============================] - 0s 0us/step\n"
          ],
          "name": "stdout"
        }
      ]
    },
    {
      "cell_type": "code",
      "metadata": {
        "id": "1xSmP9tpQCFs"
      },
      "source": [
        "def vectorize_sequences(sequences,dimension=10000):\n",
        "    results= np.zeros((len(sequences),dimension))\n",
        "    for i,sequence in enumerate(sequences):\n",
        "        results[i,sequence]=1.\n",
        "    return results\n",
        "\n",
        "x_train= vectorize_sequences(train_data)\n",
        "x_test= vectorize_sequences(test_data)"
      ],
      "execution_count": null,
      "outputs": []
    },
    {
      "cell_type": "code",
      "metadata": {
        "id": "MQuD8EoqSCNY",
        "outputId": "3470ecee-a4ff-4915-b93d-5d1a5a1f4e54",
        "colab": {
          "base_uri": "https://localhost:8080/",
          "height": 35
        }
      },
      "source": [
        "x_train[0]"
      ],
      "execution_count": null,
      "outputs": [
        {
          "output_type": "execute_result",
          "data": {
            "text/plain": [
              "array([0., 1., 1., ..., 0., 0., 0.])"
            ]
          },
          "metadata": {
            "tags": []
          },
          "execution_count": 8
        }
      ]
    },
    {
      "cell_type": "code",
      "metadata": {
        "id": "4Br5_XSfSEyy"
      },
      "source": [
        "y_train= np.asarray(train_labels).astype('float32')\n",
        "y_test= np.asarray(test_labels).astype('float32')"
      ],
      "execution_count": null,
      "outputs": []
    },
    {
      "cell_type": "code",
      "metadata": {
        "id": "nJDOtLmtTCeH",
        "outputId": "869ba3c0-c6b4-422f-e8ac-3d49565e40e6",
        "colab": {
          "base_uri": "https://localhost:8080/",
          "height": 35
        }
      },
      "source": [
        "type(y_train)"
      ],
      "execution_count": null,
      "outputs": [
        {
          "output_type": "execute_result",
          "data": {
            "text/plain": [
              "numpy.ndarray"
            ]
          },
          "metadata": {
            "tags": []
          },
          "execution_count": 10
        }
      ]
    },
    {
      "cell_type": "code",
      "metadata": {
        "id": "DZJXnn_YTXQ3",
        "outputId": "3e869a26-d773-41b5-dd1c-0346ae69c39b",
        "colab": {
          "base_uri": "https://localhost:8080/",
          "height": 35
        }
      },
      "source": [
        "type(x_train)"
      ],
      "execution_count": null,
      "outputs": [
        {
          "output_type": "execute_result",
          "data": {
            "text/plain": [
              "numpy.ndarray"
            ]
          },
          "metadata": {
            "tags": []
          },
          "execution_count": 11
        }
      ]
    },
    {
      "cell_type": "code",
      "metadata": {
        "id": "3Z7eTvRUTa1y"
      },
      "source": [
        "from keras import models \n",
        "from keras import layers"
      ],
      "execution_count": null,
      "outputs": []
    },
    {
      "cell_type": "code",
      "metadata": {
        "id": "1DV4FjRiVw2x"
      },
      "source": [
        "omodel= models.Sequential()\n",
        "omodel.add(layers.Dense(16,activation='relu',input_shape=(10000,)))\n",
        "omodel.add(layers.Dense(16,activation='relu'))\n",
        "omodel.add(layers.Dense(1,activation='sigmoid'))"
      ],
      "execution_count": null,
      "outputs": []
    },
    {
      "cell_type": "code",
      "metadata": {
        "id": "0PqrgR2oW0QK"
      },
      "source": [
        "#model.compile(optimizer='rmsprop',\n",
        " #             loss='binary_crossentropy',\n",
        "  #            metrics=['accuracy'])"
      ],
      "execution_count": null,
      "outputs": []
    },
    {
      "cell_type": "code",
      "metadata": {
        "id": "5f0PdYafYPTF"
      },
      "source": [
        "from keras import losses\n",
        "from keras import metrics\n",
        "from keras import optimizers\n",
        "\n",
        "omodel.compile(optimizer=optimizers.RMSprop(lr=0.001),\n",
        "              loss=losses.binary_crossentropy,\n",
        "              metrics=[metrics.binary_accuracy])"
      ],
      "execution_count": null,
      "outputs": []
    },
    {
      "cell_type": "code",
      "metadata": {
        "id": "ux0TRA4sZ_IT"
      },
      "source": [
        "x_val=x_train[:10000]\n",
        "partial_x_train= x_train[10000:]\n",
        "y_val=y_train[:10000]\n",
        "partial_y_train= y_train[10000:]"
      ],
      "execution_count": null,
      "outputs": []
    },
    {
      "cell_type": "code",
      "metadata": {
        "id": "CdGU9Rz7as9z",
        "outputId": "43751af3-00cb-4fe8-c55a-b35473ea725a",
        "colab": {
          "base_uri": "https://localhost:8080/",
          "height": 745
        }
      },
      "source": [
        "ohistory= omodel.fit(partial_x_train,\n",
        "                   partial_y_train,\n",
        "                   epochs=20,\n",
        "                   batch_size=512,\n",
        "                   validation_data=(x_val,y_val))"
      ],
      "execution_count": null,
      "outputs": [
        {
          "output_type": "stream",
          "text": [
            "Epoch 1/20\n",
            "30/30 [==============================] - 1s 46ms/step - loss: 0.6035 - binary_accuracy: 0.6725 - val_loss: 0.5011 - val_binary_accuracy: 0.8516\n",
            "Epoch 2/20\n",
            "30/30 [==============================] - 1s 32ms/step - loss: 0.3914 - binary_accuracy: 0.8880 - val_loss: 0.3449 - val_binary_accuracy: 0.8838\n",
            "Epoch 3/20\n",
            "30/30 [==============================] - 1s 31ms/step - loss: 0.2574 - binary_accuracy: 0.9197 - val_loss: 0.2918 - val_binary_accuracy: 0.8894\n",
            "Epoch 4/20\n",
            "30/30 [==============================] - 1s 31ms/step - loss: 0.1929 - binary_accuracy: 0.9392 - val_loss: 0.2801 - val_binary_accuracy: 0.8880\n",
            "Epoch 5/20\n",
            "30/30 [==============================] - 1s 31ms/step - loss: 0.1552 - binary_accuracy: 0.9521 - val_loss: 0.2916 - val_binary_accuracy: 0.8824\n",
            "Epoch 6/20\n",
            "30/30 [==============================] - 1s 31ms/step - loss: 0.1266 - binary_accuracy: 0.9607 - val_loss: 0.2954 - val_binary_accuracy: 0.8831\n",
            "Epoch 7/20\n",
            "30/30 [==============================] - 1s 31ms/step - loss: 0.1043 - binary_accuracy: 0.9700 - val_loss: 0.3172 - val_binary_accuracy: 0.8839\n",
            "Epoch 8/20\n",
            "30/30 [==============================] - 1s 31ms/step - loss: 0.0864 - binary_accuracy: 0.9750 - val_loss: 0.3295 - val_binary_accuracy: 0.8822\n",
            "Epoch 9/20\n",
            "30/30 [==============================] - 1s 32ms/step - loss: 0.0692 - binary_accuracy: 0.9822 - val_loss: 0.4076 - val_binary_accuracy: 0.8607\n",
            "Epoch 10/20\n",
            "30/30 [==============================] - 1s 31ms/step - loss: 0.0557 - binary_accuracy: 0.9874 - val_loss: 0.3810 - val_binary_accuracy: 0.8738\n",
            "Epoch 11/20\n",
            "30/30 [==============================] - 1s 30ms/step - loss: 0.0484 - binary_accuracy: 0.9881 - val_loss: 0.4137 - val_binary_accuracy: 0.8700\n",
            "Epoch 12/20\n",
            "30/30 [==============================] - 1s 31ms/step - loss: 0.0360 - binary_accuracy: 0.9919 - val_loss: 0.4307 - val_binary_accuracy: 0.8769\n",
            "Epoch 13/20\n",
            "30/30 [==============================] - 1s 31ms/step - loss: 0.0284 - binary_accuracy: 0.9942 - val_loss: 0.4560 - val_binary_accuracy: 0.8751\n",
            "Epoch 14/20\n",
            "30/30 [==============================] - 1s 31ms/step - loss: 0.0219 - binary_accuracy: 0.9962 - val_loss: 0.4896 - val_binary_accuracy: 0.8733\n",
            "Epoch 15/20\n",
            "30/30 [==============================] - 1s 30ms/step - loss: 0.0164 - binary_accuracy: 0.9979 - val_loss: 0.5233 - val_binary_accuracy: 0.8714\n",
            "Epoch 16/20\n",
            "30/30 [==============================] - 1s 30ms/step - loss: 0.0128 - binary_accuracy: 0.9985 - val_loss: 0.5590 - val_binary_accuracy: 0.8695\n",
            "Epoch 17/20\n",
            "30/30 [==============================] - 1s 31ms/step - loss: 0.0120 - binary_accuracy: 0.9977 - val_loss: 0.6007 - val_binary_accuracy: 0.8696\n",
            "Epoch 18/20\n",
            "30/30 [==============================] - 1s 31ms/step - loss: 0.0059 - binary_accuracy: 0.9998 - val_loss: 0.6325 - val_binary_accuracy: 0.8680\n",
            "Epoch 19/20\n",
            "30/30 [==============================] - 1s 31ms/step - loss: 0.0077 - binary_accuracy: 0.9988 - val_loss: 0.6672 - val_binary_accuracy: 0.8682\n",
            "Epoch 20/20\n",
            "30/30 [==============================] - 1s 30ms/step - loss: 0.0032 - binary_accuracy: 0.9999 - val_loss: 0.7045 - val_binary_accuracy: 0.8678\n"
          ],
          "name": "stdout"
        }
      ]
    },
    {
      "cell_type": "code",
      "metadata": {
        "id": "ZyVn4j6Cbe52",
        "outputId": "2c6654ec-bd38-45ad-a9a0-8534ae243e6e",
        "colab": {
          "base_uri": "https://localhost:8080/",
          "height": 35
        }
      },
      "source": [
        "ohistory_dict= ohistory.history\n",
        "ohistory_dict.keys()"
      ],
      "execution_count": null,
      "outputs": [
        {
          "output_type": "execute_result",
          "data": {
            "text/plain": [
              "dict_keys(['loss', 'binary_accuracy', 'val_loss', 'val_binary_accuracy'])"
            ]
          },
          "metadata": {
            "tags": []
          },
          "execution_count": 18
        }
      ]
    },
    {
      "cell_type": "code",
      "metadata": {
        "id": "av4haBAzb0fR",
        "outputId": "fed9d9a2-52f3-481c-dbe5-61584463d133",
        "colab": {
          "base_uri": "https://localhost:8080/",
          "height": 295
        }
      },
      "source": [
        "import matplotlib.pyplot as plt\n",
        "\n",
        "loss_values= ohistory_dict['loss']\n",
        "val_loss_values=ohistory_dict['val_loss']\n",
        "acc= ohistory_dict['binary_accuracy']\n",
        "val_acc= ohistory_dict['val_binary_accuracy']\n",
        "\n",
        "epochs=range(1,len(acc)+1)\n",
        "\n",
        "plt.plot(epochs,loss_values,'bo',label='Training loss')\n",
        "plt.plot(epochs,val_loss_values,'r',label='Validation loss')\n",
        "plt.title('Training and Validation loss')\n",
        "plt.xlabel('Epochs')\n",
        "plt.ylabel('Loss')\n",
        "plt.legend()\n",
        "\n",
        "plt.show()"
      ],
      "execution_count": null,
      "outputs": [
        {
          "output_type": "display_data",
          "data": {
            "image/png": "[encoded data removed]",
            "text/plain": [
              "<Figure size 432x288 with 1 Axes>"
            ]
          },
          "metadata": {
            "tags": [],
            "needs_background": "light"
          }
        }
      ]
    },
    {
      "cell_type": "code",
      "metadata": {
        "id": "lwV3aSW0dAtG",
        "outputId": "8228854b-fc8c-42ce-b962-6c4b7729be84",
        "colab": {
          "base_uri": "https://localhost:8080/",
          "height": 295
        }
      },
      "source": [
        "plt.clf()\n",
        "acc_values= ohistory_dict['binary_accuracy']\n",
        "val_acc_values= ohistory_dict['val_binary_accuracy']\n",
        "\n",
        "plt.plot(epochs,acc,'bo',label='Training acc')\n",
        "plt.plot(epochs,val_acc,'r',label='Validation acc')\n",
        "plt.title('Training and validation accuracy')\n",
        "plt.xlabel('Epochs')\n",
        "plt.ylabel('Loss')\n",
        "plt.legend()\n",
        "\n",
        "plt.show()"
      ],
      "execution_count": null,
      "outputs": [
        {
          "output_type": "display_data",
          "data": {
            "image/png": "[encoded data removed]",
            "text/plain": [
              "<Figure size 432x288 with 1 Axes>"
            ]
          },
          "metadata": {
            "tags": [],
            "needs_background": "light"
          }
        }
      ]
    },
    {
      "cell_type": "code",
      "metadata": {
        "id": "32uXKuIahaqO"
      },
      "source": [
        "#model.fit(x_train,y_train,epochs=4,batch_size=512)\n",
        "#results= model.evaluate(x_test,y_test)"
      ],
      "execution_count": null,
      "outputs": []
    },
    {
      "cell_type": "code",
      "metadata": {
        "id": "s3ft9X76uG44"
      },
      "source": [
        ""
      ],
      "execution_count": null,
      "outputs": []
    },
    {
      "cell_type": "code",
      "metadata": {
        "id": "grK5lO6nvUPO"
      },
      "source": [
        "#model1.predict(x_test)"
      ],
      "execution_count": null,
      "outputs": []
    },
    {
      "cell_type": "markdown",
      "metadata": {
        "id": "lBUhVUVyRefg"
      },
      "source": [
        "Overfitting and underfitting (pg 104)\n",
        "\n"
      ]
    },
    {
      "cell_type": "code",
      "metadata": {
        "id": "oNbAvKUYQvuY"
      },
      "source": [
        "smodel= models.Sequential()\n",
        "smodel.add(layers.Dense(4,activation='relu', input_shape=(10000,)))\n",
        "smodel.add(layers.Dense(4,activation='relu'))\n",
        "smodel.add(layers.Dense(1,activation='sigmoid'))"
      ],
      "execution_count": null,
      "outputs": []
    },
    {
      "cell_type": "code",
      "metadata": {
        "id": "tSRyDd5Hj-Kh"
      },
      "source": [
        "smodel.compile(optimizer=optimizers.RMSprop(lr=0.001),\n",
        "              loss=losses.binary_crossentropy,\n",
        "              metrics=[metrics.binary_accuracy])"
      ],
      "execution_count": null,
      "outputs": []
    },
    {
      "cell_type": "code",
      "metadata": {
        "id": "6orGXy3Cxx4I",
        "outputId": "1b4dc8ce-6ed8-42c6-faee-14ec90dd690f",
        "colab": {
          "base_uri": "https://localhost:8080/",
          "height": 745
        }
      },
      "source": [
        "shistory= smodel.fit(partial_x_train,\n",
        "                   partial_y_train,\n",
        "                   epochs=20,\n",
        "                   batch_size=512,\n",
        "                   validation_data=(x_val,y_val))"
      ],
      "execution_count": null,
      "outputs": [
        {
          "output_type": "stream",
          "text": [
            "Epoch 1/20\n",
            "30/30 [==============================] - 1s 41ms/step - loss: 0.6036 - binary_accuracy: 0.7352 - val_loss: 0.5299 - val_binary_accuracy: 0.7812\n",
            "Epoch 2/20\n",
            "30/30 [==============================] - 1s 28ms/step - loss: 0.4597 - binary_accuracy: 0.8745 - val_loss: 0.4406 - val_binary_accuracy: 0.8711\n",
            "Epoch 3/20\n",
            "30/30 [==============================] - 1s 28ms/step - loss: 0.3653 - binary_accuracy: 0.9060 - val_loss: 0.3701 - val_binary_accuracy: 0.8829\n",
            "Epoch 4/20\n",
            "30/30 [==============================] - 1s 28ms/step - loss: 0.2973 - binary_accuracy: 0.9204 - val_loss: 0.3269 - val_binary_accuracy: 0.8848\n",
            "Epoch 5/20\n",
            "30/30 [==============================] - 1s 29ms/step - loss: 0.2494 - binary_accuracy: 0.9296 - val_loss: 0.3102 - val_binary_accuracy: 0.8814\n",
            "Epoch 6/20\n",
            "30/30 [==============================] - 1s 28ms/step - loss: 0.2131 - binary_accuracy: 0.9394 - val_loss: 0.2953 - val_binary_accuracy: 0.8831\n",
            "Epoch 7/20\n",
            "30/30 [==============================] - 1s 28ms/step - loss: 0.1852 - binary_accuracy: 0.9470 - val_loss: 0.2869 - val_binary_accuracy: 0.8866\n",
            "Epoch 8/20\n",
            "30/30 [==============================] - 1s 28ms/step - loss: 0.1619 - binary_accuracy: 0.9551 - val_loss: 0.2762 - val_binary_accuracy: 0.8907\n",
            "Epoch 9/20\n",
            "30/30 [==============================] - 1s 28ms/step - loss: 0.1427 - binary_accuracy: 0.9604 - val_loss: 0.2783 - val_binary_accuracy: 0.8883\n",
            "Epoch 10/20\n",
            "30/30 [==============================] - 1s 28ms/step - loss: 0.1266 - binary_accuracy: 0.9646 - val_loss: 0.2807 - val_binary_accuracy: 0.8872\n",
            "Epoch 11/20\n",
            "30/30 [==============================] - 1s 28ms/step - loss: 0.1124 - binary_accuracy: 0.9703 - val_loss: 0.2933 - val_binary_accuracy: 0.8848\n",
            "Epoch 12/20\n",
            "30/30 [==============================] - 1s 28ms/step - loss: 0.0996 - binary_accuracy: 0.9745 - val_loss: 0.2994 - val_binary_accuracy: 0.8837\n",
            "Epoch 13/20\n",
            "30/30 [==============================] - 1s 28ms/step - loss: 0.0895 - binary_accuracy: 0.9773 - val_loss: 0.3030 - val_binary_accuracy: 0.8852\n",
            "Epoch 14/20\n",
            "30/30 [==============================] - 1s 29ms/step - loss: 0.0793 - binary_accuracy: 0.9810 - val_loss: 0.3186 - val_binary_accuracy: 0.8832\n",
            "Epoch 15/20\n",
            "30/30 [==============================] - 1s 28ms/step - loss: 0.0707 - binary_accuracy: 0.9845 - val_loss: 0.3291 - val_binary_accuracy: 0.8830\n",
            "Epoch 16/20\n",
            "30/30 [==============================] - 1s 29ms/step - loss: 0.0621 - binary_accuracy: 0.9865 - val_loss: 0.3426 - val_binary_accuracy: 0.8789\n",
            "Epoch 17/20\n",
            "30/30 [==============================] - 1s 27ms/step - loss: 0.0545 - binary_accuracy: 0.9893 - val_loss: 0.3503 - val_binary_accuracy: 0.8802\n",
            "Epoch 18/20\n",
            "30/30 [==============================] - 1s 28ms/step - loss: 0.0475 - binary_accuracy: 0.9913 - val_loss: 0.3707 - val_binary_accuracy: 0.8795\n",
            "Epoch 19/20\n",
            "30/30 [==============================] - 1s 28ms/step - loss: 0.0420 - binary_accuracy: 0.9926 - val_loss: 0.3846 - val_binary_accuracy: 0.8786\n",
            "Epoch 20/20\n",
            "30/30 [==============================] - 1s 28ms/step - loss: 0.0363 - binary_accuracy: 0.9939 - val_loss: 0.4006 - val_binary_accuracy: 0.8767\n"
          ],
          "name": "stdout"
        }
      ]
    },
    {
      "cell_type": "code",
      "metadata": {
        "id": "9RAmuW3Gx4Ye",
        "outputId": "0e66882a-0241-4eea-ac3e-a547ee83dabd",
        "colab": {
          "base_uri": "https://localhost:8080/",
          "height": 35
        }
      },
      "source": [
        "shistory_dict= shistory.history\n",
        "shistory_dict.keys()"
      ],
      "execution_count": null,
      "outputs": [
        {
          "output_type": "execute_result",
          "data": {
            "text/plain": [
              "dict_keys(['loss', 'binary_accuracy', 'val_loss', 'val_binary_accuracy'])"
            ]
          },
          "metadata": {
            "tags": []
          },
          "execution_count": 26
        }
      ]
    },
    {
      "cell_type": "code",
      "metadata": {
        "id": "dhpDW4tv1LRP",
        "outputId": "c8fb8269-23e7-43c7-ba2e-1f4c0dc44d8f",
        "colab": {
          "base_uri": "https://localhost:8080/",
          "height": 765
        }
      },
      "source": [
        "bmodel= models.Sequential()\n",
        "bmodel.add(layers.Dense(512,activation='relu', input_shape=(10000,)))\n",
        "bmodel.add(layers.Dense(512,activation='relu'))\n",
        "bmodel.add(layers.Dense(1,activation='sigmoid'))\n",
        "\n",
        "bmodel.compile(optimizer=optimizers.RMSprop(lr=0.001),\n",
        "               loss=losses.binary_crossentropy,\n",
        "               metrics=[metrics.binary_accuracy])\n",
        "\n",
        "bhistory= bmodel.fit(partial_x_train,\n",
        "                     partial_y_train,\n",
        "                     epochs=20,\n",
        "                     batch_size=512,\n",
        "                     validation_data=(x_val,y_val))"
      ],
      "execution_count": null,
      "outputs": [
        {
          "output_type": "stream",
          "text": [
            "Epoch 1/20\n",
            "30/30 [==============================] - 8s 281ms/step - loss: 0.5494 - binary_accuracy: 0.7588 - val_loss: 0.3056 - val_binary_accuracy: 0.8784\n",
            "Epoch 2/20\n",
            "30/30 [==============================] - 8s 275ms/step - loss: 0.2624 - binary_accuracy: 0.8978 - val_loss: 0.3336 - val_binary_accuracy: 0.8630\n",
            "Epoch 3/20\n",
            "30/30 [==============================] - 8s 273ms/step - loss: 0.1635 - binary_accuracy: 0.9403 - val_loss: 0.2950 - val_binary_accuracy: 0.8851\n",
            "Epoch 4/20\n",
            "30/30 [==============================] - 8s 273ms/step - loss: 0.0842 - binary_accuracy: 0.9719 - val_loss: 0.3418 - val_binary_accuracy: 0.8886\n",
            "Epoch 5/20\n",
            "30/30 [==============================] - 8s 274ms/step - loss: 0.0379 - binary_accuracy: 0.9919 - val_loss: 1.2080 - val_binary_accuracy: 0.7330\n",
            "Epoch 6/20\n",
            "30/30 [==============================] - 8s 274ms/step - loss: 0.0155 - binary_accuracy: 0.9952 - val_loss: 0.5001 - val_binary_accuracy: 0.8885\n",
            "Epoch 7/20\n",
            "30/30 [==============================] - 8s 274ms/step - loss: 5.2766e-04 - binary_accuracy: 1.0000 - val_loss: 0.6089 - val_binary_accuracy: 0.8860\n",
            "Epoch 8/20\n",
            "30/30 [==============================] - 8s 274ms/step - loss: 1.0291e-04 - binary_accuracy: 1.0000 - val_loss: 0.7060 - val_binary_accuracy: 0.8870\n",
            "Epoch 9/20\n",
            "30/30 [==============================] - 8s 276ms/step - loss: 1.8952e-05 - binary_accuracy: 1.0000 - val_loss: 0.8036 - val_binary_accuracy: 0.8861\n",
            "Epoch 10/20\n",
            "30/30 [==============================] - 8s 276ms/step - loss: 4.0343e-06 - binary_accuracy: 1.0000 - val_loss: 0.8941 - val_binary_accuracy: 0.8855\n",
            "Epoch 11/20\n",
            "30/30 [==============================] - 8s 278ms/step - loss: 1.1132e-06 - binary_accuracy: 1.0000 - val_loss: 0.9744 - val_binary_accuracy: 0.8852\n",
            "Epoch 12/20\n",
            "30/30 [==============================] - 8s 282ms/step - loss: 3.6637e-07 - binary_accuracy: 1.0000 - val_loss: 1.0506 - val_binary_accuracy: 0.8856\n",
            "Epoch 13/20\n",
            "30/30 [==============================] - 8s 276ms/step - loss: 1.3339e-07 - binary_accuracy: 1.0000 - val_loss: 1.1257 - val_binary_accuracy: 0.8849\n",
            "Epoch 14/20\n",
            "30/30 [==============================] - 8s 275ms/step - loss: 5.7087e-08 - binary_accuracy: 1.0000 - val_loss: 1.1663 - val_binary_accuracy: 0.8853\n",
            "Epoch 15/20\n",
            "30/30 [==============================] - 8s 275ms/step - loss: 3.1015e-08 - binary_accuracy: 1.0000 - val_loss: 1.2011 - val_binary_accuracy: 0.8855\n",
            "Epoch 16/20\n",
            "30/30 [==============================] - 8s 275ms/step - loss: 2.0317e-08 - binary_accuracy: 1.0000 - val_loss: 1.2254 - val_binary_accuracy: 0.8851\n",
            "Epoch 17/20\n",
            "30/30 [==============================] - 8s 275ms/step - loss: 1.5151e-08 - binary_accuracy: 1.0000 - val_loss: 1.2434 - val_binary_accuracy: 0.8858\n",
            "Epoch 18/20\n",
            "30/30 [==============================] - 8s 275ms/step - loss: 1.2054e-08 - binary_accuracy: 1.0000 - val_loss: 1.2574 - val_binary_accuracy: 0.8855\n",
            "Epoch 19/20\n",
            "30/30 [==============================] - 8s 275ms/step - loss: 9.9841e-09 - binary_accuracy: 1.0000 - val_loss: 1.2685 - val_binary_accuracy: 0.8856\n",
            "Epoch 20/20\n",
            "30/30 [==============================] - 8s 276ms/step - loss: 8.5410e-09 - binary_accuracy: 1.0000 - val_loss: 1.2783 - val_binary_accuracy: 0.8856\n"
          ],
          "name": "stdout"
        }
      ]
    },
    {
      "cell_type": "code",
      "metadata": {
        "id": "ZXxs1H-43OUG",
        "outputId": "acb9875f-c1d5-4eb8-e023-acabeaf1d587",
        "colab": {
          "base_uri": "https://localhost:8080/",
          "height": 35
        }
      },
      "source": [
        "bhistory_dict= bhistory.history\n",
        "bhistory_dict.keys()"
      ],
      "execution_count": null,
      "outputs": [
        {
          "output_type": "execute_result",
          "data": {
            "text/plain": [
              "dict_keys(['loss', 'binary_accuracy', 'val_loss', 'val_binary_accuracy'])"
            ]
          },
          "metadata": {
            "tags": []
          },
          "execution_count": 28
        }
      ]
    },
    {
      "cell_type": "code",
      "metadata": {
        "id": "MPT6_xXhyNnK",
        "outputId": "d51cb0eb-a8df-4182-cbcb-700daaaac217",
        "colab": {
          "base_uri": "https://localhost:8080/",
          "height": 313
        }
      },
      "source": [
        "s_val_loss_values=shistory_dict['val_loss']\n",
        "b_val_loss_values= bhistory_dict['val_loss']\n",
        "\n",
        "epochs=range(1,len(acc)+1)\n",
        "\n",
        "plt.plot(epochs,s_val_loss_values,'bo',label='Smaller network')\n",
        "plt.plot(epochs,val_loss_values,'ro',label='Original network')\n",
        "plt.plot(epochs,b_val_loss_values,'go',label='Bigger network')\n",
        "plt.title(\"Validation losses of models\")\n",
        "plt.xlabel('Epochs')\n",
        "plt.ylabel('Validation loss')\n",
        "plt.legend()"
      ],
      "execution_count": null,
      "outputs": [
        {
          "output_type": "execute_result",
          "data": {
            "text/plain": [
              "<matplotlib.legend.Legend at 0x7f6ec133ea90>"
            ]
          },
          "metadata": {
            "tags": []
          },
          "execution_count": 29
        },
        {
          "output_type": "display_data",
          "data": {
            "image/png": "[encoded data removed]",
            "text/plain": [
              "<Figure size 432x288 with 1 Axes>"
            ]
          },
          "metadata": {
            "tags": [],
            "needs_background": "light"
          }
        }
      ]
    },
    {
      "cell_type": "markdown",
      "metadata": {
        "id": "Lgc_z6yD_oI0"
      },
      "source": [
        "# Adding L2 weight regularization to the model"
      ]
    },
    {
      "cell_type": "code",
      "metadata": {
        "id": "AfcvBxolzeX4"
      },
      "source": [
        "from keras import regularizers\n",
        "wmodel= models.Sequential()\n",
        "wmodel.add(layers.Dense(16,kernel_regularizer=regularizers.l2(0.001),\n",
        "                        activation='relu',\n",
        "                        input_shape=(10000,)))\n",
        "wmodel.add(layers.Dense(16,kernel_regularizer=regularizers.l2(0.001),\n",
        "                        activation='relu'))\n",
        "wmodel.add(layers.Dense(1,activation='sigmoid'))"
      ],
      "execution_count": null,
      "outputs": []
    },
    {
      "cell_type": "code",
      "metadata": {
        "id": "NfI1f2YHDfLa",
        "outputId": "363531dd-3696-44bc-b583-d2e6e695cab9",
        "colab": {
          "base_uri": "https://localhost:8080/",
          "height": 745
        }
      },
      "source": [
        "wmodel.compile(optimizer=optimizers.RMSprop(lr=0.001),\n",
        "               loss=losses.binary_crossentropy,\n",
        "               metrics=[metrics.binary_accuracy])\n",
        "\n",
        "whistory= wmodel.fit(partial_x_train,\n",
        "                     partial_y_train,\n",
        "                     epochs=20,\n",
        "                     batch_size=512,\n",
        "                     validation_data=(x_val,y_val))"
      ],
      "execution_count": null,
      "outputs": [
        {
          "output_type": "stream",
          "text": [
            "Epoch 1/20\n",
            "30/30 [==============================] - 1s 40ms/step - loss: 0.5671 - binary_accuracy: 0.7809 - val_loss: 0.4444 - val_binary_accuracy: 0.8675\n",
            "Epoch 2/20\n",
            "30/30 [==============================] - 1s 31ms/step - loss: 0.3701 - binary_accuracy: 0.9002 - val_loss: 0.3622 - val_binary_accuracy: 0.8870\n",
            "Epoch 3/20\n",
            "30/30 [==============================] - 1s 31ms/step - loss: 0.2983 - binary_accuracy: 0.9180 - val_loss: 0.3406 - val_binary_accuracy: 0.8843\n",
            "Epoch 4/20\n",
            "30/30 [==============================] - 1s 31ms/step - loss: 0.2568 - binary_accuracy: 0.9327 - val_loss: 0.4018 - val_binary_accuracy: 0.8523\n",
            "Epoch 5/20\n",
            "30/30 [==============================] - 1s 31ms/step - loss: 0.2362 - binary_accuracy: 0.9399 - val_loss: 0.3279 - val_binary_accuracy: 0.8854\n",
            "Epoch 6/20\n",
            "30/30 [==============================] - 1s 31ms/step - loss: 0.2178 - binary_accuracy: 0.9472 - val_loss: 0.3338 - val_binary_accuracy: 0.8875\n",
            "Epoch 7/20\n",
            "30/30 [==============================] - 1s 30ms/step - loss: 0.2077 - binary_accuracy: 0.9510 - val_loss: 0.3511 - val_binary_accuracy: 0.8844\n",
            "Epoch 8/20\n",
            "30/30 [==============================] - 1s 32ms/step - loss: 0.1934 - binary_accuracy: 0.9569 - val_loss: 0.3545 - val_binary_accuracy: 0.8837\n",
            "Epoch 9/20\n",
            "30/30 [==============================] - 1s 31ms/step - loss: 0.1838 - binary_accuracy: 0.9607 - val_loss: 0.3528 - val_binary_accuracy: 0.8834\n",
            "Epoch 10/20\n",
            "30/30 [==============================] - 1s 31ms/step - loss: 0.1806 - binary_accuracy: 0.9592 - val_loss: 0.3620 - val_binary_accuracy: 0.8823\n",
            "Epoch 11/20\n",
            "30/30 [==============================] - 1s 31ms/step - loss: 0.1714 - binary_accuracy: 0.9645 - val_loss: 0.3697 - val_binary_accuracy: 0.8815\n",
            "Epoch 12/20\n",
            "30/30 [==============================] - 1s 31ms/step - loss: 0.1695 - binary_accuracy: 0.9641 - val_loss: 0.4100 - val_binary_accuracy: 0.8718\n",
            "Epoch 13/20\n",
            "30/30 [==============================] - 1s 32ms/step - loss: 0.1614 - binary_accuracy: 0.9692 - val_loss: 0.4135 - val_binary_accuracy: 0.8725\n",
            "Epoch 14/20\n",
            "30/30 [==============================] - 1s 31ms/step - loss: 0.1563 - binary_accuracy: 0.9712 - val_loss: 0.3978 - val_binary_accuracy: 0.8769\n",
            "Epoch 15/20\n",
            "30/30 [==============================] - 1s 32ms/step - loss: 0.1590 - binary_accuracy: 0.9686 - val_loss: 0.4070 - val_binary_accuracy: 0.8762\n",
            "Epoch 16/20\n",
            "30/30 [==============================] - 1s 31ms/step - loss: 0.1476 - binary_accuracy: 0.9742 - val_loss: 0.4404 - val_binary_accuracy: 0.8644\n",
            "Epoch 17/20\n",
            "30/30 [==============================] - 1s 31ms/step - loss: 0.1446 - binary_accuracy: 0.9757 - val_loss: 0.4247 - val_binary_accuracy: 0.8742\n",
            "Epoch 18/20\n",
            "30/30 [==============================] - 1s 30ms/step - loss: 0.1473 - binary_accuracy: 0.9723 - val_loss: 0.5512 - val_binary_accuracy: 0.8429\n",
            "Epoch 19/20\n",
            "30/30 [==============================] - 1s 31ms/step - loss: 0.1439 - binary_accuracy: 0.9731 - val_loss: 0.4515 - val_binary_accuracy: 0.8674\n",
            "Epoch 20/20\n",
            "30/30 [==============================] - 1s 31ms/step - loss: 0.1407 - binary_accuracy: 0.9749 - val_loss: 0.4598 - val_binary_accuracy: 0.8689\n"
          ],
          "name": "stdout"
        }
      ]
    },
    {
      "cell_type": "code",
      "metadata": {
        "id": "kooIda8uEWOV",
        "outputId": "43ea7615-3b40-45cb-989a-b16de7c39ec3",
        "colab": {
          "base_uri": "https://localhost:8080/",
          "height": 35
        }
      },
      "source": [
        "whistory_dict= whistory.history\n",
        "whistory_dict.keys()"
      ],
      "execution_count": null,
      "outputs": [
        {
          "output_type": "execute_result",
          "data": {
            "text/plain": [
              "dict_keys(['loss', 'binary_accuracy', 'val_loss', 'val_binary_accuracy'])"
            ]
          },
          "metadata": {
            "tags": []
          },
          "execution_count": 32
        }
      ]
    },
    {
      "cell_type": "code",
      "metadata": {
        "id": "bxvrzJOsEx9n",
        "outputId": "da015661-324e-4683-a6e8-1160c9b0b737",
        "colab": {
          "base_uri": "https://localhost:8080/",
          "height": 313
        }
      },
      "source": [
        "w_val_loss_values= whistory_dict['val_loss']\n",
        "\n",
        "epochs= range(1,len(acc)+1)\n",
        "\n",
        "plt.plot(epochs,w_val_loss_values,'bo',label='L2 regularized network')\n",
        "plt.plot(epochs,val_loss_values,'ro',label='Original network')\n",
        "plt.title(\"Validation losses of models\")\n",
        "plt.xlabel('Epochs')\n",
        "plt.ylabel('Validation loss')\n",
        "plt.legend()"
      ],
      "execution_count": null,
      "outputs": [
        {
          "output_type": "execute_result",
          "data": {
            "text/plain": [
              "<matplotlib.legend.Legend at 0x7f6ec0e69d68>"
            ]
          },
          "metadata": {
            "tags": []
          },
          "execution_count": 33
        },
        {
          "output_type": "display_data",
          "data": {
            "image/png": "[encoded data removed]",
            "text/plain": [
              "<Figure size 432x288 with 1 Axes>"
            ]
          },
          "metadata": {
            "tags": [],
            "needs_background": "light"
          }
        }
      ]
    },
    {
      "cell_type": "code",
      "metadata": {
        "id": "R49-n2zUGHSR",
        "outputId": "ce9d0f80-093b-4c2e-e860-66f90cfa679f",
        "colab": {
          "base_uri": "https://localhost:8080/",
          "height": 35
        }
      },
      "source": [
        "regularizers.l1(0.001)\n",
        "regularizers.l1_l2(l1=0.001, l2=0.001)"
      ],
      "execution_count": null,
      "outputs": [
        {
          "output_type": "execute_result",
          "data": {
            "text/plain": [
              "<tensorflow.python.keras.regularizers.L1L2 at 0x7f6ec1c7d5f8>"
            ]
          },
          "metadata": {
            "tags": []
          },
          "execution_count": 34
        }
      ]
    },
    {
      "cell_type": "markdown",
      "metadata": {
        "id": "OJ7Dmlz4NWOS"
      },
      "source": [
        "# Adding dropout"
      ]
    },
    {
      "cell_type": "code",
      "metadata": {
        "id": "-f1wuEHAHA5U"
      },
      "source": [
        "dmodel= models.Sequential()\n",
        "dmodel.add(layers.Dense(16,activation='relu',input_shape=(10000,)))\n",
        "dmodel.add(layers.Dropout(0.5))\n",
        "dmodel.add(layers.Dense(16,activation='relu'))\n",
        "dmodel.add(layers.Dropout(0.5))\n",
        "dmodel.add(layers.Dense(1,activation='sigmoid'))"
      ],
      "execution_count": null,
      "outputs": []
    },
    {
      "cell_type": "code",
      "metadata": {
        "id": "--7-mdexOrNR",
        "outputId": "37d86242-f789-4e16-a492-39252af74561",
        "colab": {
          "base_uri": "https://localhost:8080/",
          "height": 745
        }
      },
      "source": [
        "dmodel.compile(optimizer=optimizers.RMSprop(lr=0.001),\n",
        "               loss=losses.binary_crossentropy,\n",
        "               metrics=[metrics.binary_accuracy])\n",
        "\n",
        "dhistory= dmodel.fit(partial_x_train,\n",
        "                   partial_y_train,\n",
        "                   epochs=20,\n",
        "                   batch_size=512,\n",
        "                   validation_data=(x_val,y_val))"
      ],
      "execution_count": null,
      "outputs": [
        {
          "output_type": "stream",
          "text": [
            "Epoch 1/20\n",
            "30/30 [==============================] - 1s 45ms/step - loss: 0.6045 - binary_accuracy: 0.6737 - val_loss: 0.4651 - val_binary_accuracy: 0.8491\n",
            "Epoch 2/20\n",
            "30/30 [==============================] - 1s 32ms/step - loss: 0.4722 - binary_accuracy: 0.7960 - val_loss: 0.3816 - val_binary_accuracy: 0.8675\n",
            "Epoch 3/20\n",
            "30/30 [==============================] - 1s 31ms/step - loss: 0.3898 - binary_accuracy: 0.8509 - val_loss: 0.3314 - val_binary_accuracy: 0.8818\n",
            "Epoch 4/20\n",
            "30/30 [==============================] - 1s 31ms/step - loss: 0.3369 - binary_accuracy: 0.8793 - val_loss: 0.2964 - val_binary_accuracy: 0.8837\n",
            "Epoch 5/20\n",
            "30/30 [==============================] - 1s 31ms/step - loss: 0.2876 - binary_accuracy: 0.9005 - val_loss: 0.2769 - val_binary_accuracy: 0.8908\n",
            "Epoch 6/20\n",
            "30/30 [==============================] - 1s 31ms/step - loss: 0.2542 - binary_accuracy: 0.9155 - val_loss: 0.2722 - val_binary_accuracy: 0.8921\n",
            "Epoch 7/20\n",
            "30/30 [==============================] - 1s 31ms/step - loss: 0.2172 - binary_accuracy: 0.9261 - val_loss: 0.2858 - val_binary_accuracy: 0.8886\n",
            "Epoch 8/20\n",
            "30/30 [==============================] - 1s 31ms/step - loss: 0.1971 - binary_accuracy: 0.9385 - val_loss: 0.2903 - val_binary_accuracy: 0.8884\n",
            "Epoch 9/20\n",
            "30/30 [==============================] - 1s 30ms/step - loss: 0.1771 - binary_accuracy: 0.9449 - val_loss: 0.3106 - val_binary_accuracy: 0.8861\n",
            "Epoch 10/20\n",
            "30/30 [==============================] - 1s 30ms/step - loss: 0.1531 - binary_accuracy: 0.9507 - val_loss: 0.3269 - val_binary_accuracy: 0.8877\n",
            "Epoch 11/20\n",
            "30/30 [==============================] - 1s 31ms/step - loss: 0.1426 - binary_accuracy: 0.9543 - val_loss: 0.3404 - val_binary_accuracy: 0.8887\n",
            "Epoch 12/20\n",
            "30/30 [==============================] - 1s 31ms/step - loss: 0.1270 - binary_accuracy: 0.9585 - val_loss: 0.3613 - val_binary_accuracy: 0.8871\n",
            "Epoch 13/20\n",
            "30/30 [==============================] - 1s 30ms/step - loss: 0.1139 - binary_accuracy: 0.9617 - val_loss: 0.3760 - val_binary_accuracy: 0.8857\n",
            "Epoch 14/20\n",
            "30/30 [==============================] - 1s 31ms/step - loss: 0.1076 - binary_accuracy: 0.9645 - val_loss: 0.4151 - val_binary_accuracy: 0.8851\n",
            "Epoch 15/20\n",
            "30/30 [==============================] - 1s 31ms/step - loss: 0.0968 - binary_accuracy: 0.9689 - val_loss: 0.4244 - val_binary_accuracy: 0.8834\n",
            "Epoch 16/20\n",
            "30/30 [==============================] - 1s 31ms/step - loss: 0.0880 - binary_accuracy: 0.9706 - val_loss: 0.4436 - val_binary_accuracy: 0.8852\n",
            "Epoch 17/20\n",
            "30/30 [==============================] - 1s 31ms/step - loss: 0.0866 - binary_accuracy: 0.9709 - val_loss: 0.4752 - val_binary_accuracy: 0.8862\n",
            "Epoch 18/20\n",
            "30/30 [==============================] - 1s 31ms/step - loss: 0.0813 - binary_accuracy: 0.9726 - val_loss: 0.4944 - val_binary_accuracy: 0.8816\n",
            "Epoch 19/20\n",
            "30/30 [==============================] - 1s 30ms/step - loss: 0.0779 - binary_accuracy: 0.9740 - val_loss: 0.5338 - val_binary_accuracy: 0.8848\n",
            "Epoch 20/20\n",
            "30/30 [==============================] - 1s 30ms/step - loss: 0.0762 - binary_accuracy: 0.9749 - val_loss: 0.5535 - val_binary_accuracy: 0.8848\n"
          ],
          "name": "stdout"
        }
      ]
    },
    {
      "cell_type": "code",
      "metadata": {
        "id": "mzKNDBLUdjkC",
        "outputId": "38097203-9e7d-4130-948b-b1bae9fecb50",
        "colab": {
          "base_uri": "https://localhost:8080/",
          "height": 35
        }
      },
      "source": [
        "dhistory_dict=dhistory.history\n",
        "dhistory_dict.keys()"
      ],
      "execution_count": null,
      "outputs": [
        {
          "output_type": "execute_result",
          "data": {
            "text/plain": [
              "dict_keys(['loss', 'binary_accuracy', 'val_loss', 'val_binary_accuracy'])"
            ]
          },
          "metadata": {
            "tags": []
          },
          "execution_count": 42
        }
      ]
    },
    {
      "cell_type": "code",
      "metadata": {
        "id": "zex94GPEdrFk"
      },
      "source": [
        "w_val_loss_values= whistory_dict['val_loss']\n",
        "\n",
        "epochs= range(1,len(acc)+1)\n",
        "\n",
        "plt.plot(epochs,w_val_loss_values,'bo',label='L2 regularized network')\n",
        "plt.plot(epochs,val_loss_values,'ro',label='Original network')\n",
        "plt.title(\"Validation losses of models\")\n",
        "plt.xlabel('Epochs')\n",
        "plt.ylabel('Validation loss')\n",
        "plt.legend()"
      ],
      "execution_count": null,
      "outputs": []
    },
    {
      "cell_type": "code",
      "metadata": {
        "id": "LRtCFPUEfIr0",
        "outputId": "23820f71-5fbb-4a3f-dfd3-77d4ae74d3da",
        "colab": {
          "base_uri": "https://localhost:8080/",
          "height": 313
        }
      },
      "source": [
        "d_val_loss_values= dhistory_dict['val_loss']\n",
        "\n",
        "epochs= range(1,len(acc)+1)\n",
        "\n",
        "plt.plot(epochs,d_val_loss_values,'bo',label='Dropout regularized network')\n",
        "plt.plot(epochs,val_loss_values,'ro',label='Original network')\n",
        "plt.title(\"Validation losses of networks\")\n",
        "plt.xlabel('Epochs')\n",
        "plt.ylabel('Validation loss')\n",
        "plt.legend()"
      ],
      "execution_count": null,
      "outputs": [
        {
          "output_type": "execute_result",
          "data": {
            "text/plain": [
              "<matplotlib.legend.Legend at 0x7f6ec1dfe518>"
            ]
          },
          "metadata": {
            "tags": []
          },
          "execution_count": 43
        },
        {
          "output_type": "display_data",
          "data": {
            "image/png": "[encoded data removed]",
            "text/plain": [
              "<Figure size 432x288 with 1 Axes>"
            ]
          },
          "metadata": {
            "tags": [],
            "needs_background": "light"
          }
        }
      ]
    },
    {
      "cell_type": "code",
      "metadata": {
        "id": "TCHCi2qqf0x_"
      },
      "source": [
        ""
      ],
      "execution_count": null,
      "outputs": []
    }
  ]
}