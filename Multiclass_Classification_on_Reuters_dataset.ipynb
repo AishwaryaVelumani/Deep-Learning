{
  "nbformat": 4,
  "nbformat_minor": 0,
  "metadata": {
    "colab": {
      "name": "Multiclass Classification on Reuters dataset",
      "provenance": [],
      "collapsed_sections": [],
      "authorship_tag": "ABX9TyNrfWC4uukzdfkoGkUvqCGu",
      "include_colab_link": true
    },
    "kernelspec": {
      "name": "python3",
      "display_name": "Python 3"
    }
  },
  "cells": [
    {
      "cell_type": "markdown",
      "metadata": {
        "id": "view-in-github",
        "colab_type": "text"
      },
      "source": [
        "<a href=\"https://colab.research.google.com/github/AishwaryaVelumani/Deep-Learning/blob/master/Multiclass_Classification_on_Reuters_dataset.ipynb\" target=\"_parent\"><img src=\"https://colab.research.google.com/assets/colab-badge.svg\" alt=\"Open In Colab\"/></a>"
      ]
    },
    {
      "cell_type": "code",
      "metadata": {
        "id": "fO64Yf1GywoB",
        "outputId": "4362f76b-49b7-4ff0-c9d1-767c081403c5",
        "colab": {
          "base_uri": "https://localhost:8080/",
          "height": 54
        }
      },
      "source": [
        "from keras.datasets import reuters\n",
        "(train_data,train_labels),(test_data,test_labels)= reuters.load_data(num_words=10000)"
      ],
      "execution_count": 2,
      "outputs": [
        {
          "output_type": "stream",
          "text": [
            "Downloading data from https://storage.googleapis.com/tensorflow/tf-keras-datasets/reuters.npz\n",
            "2113536/2110848 [==============================] - 0s 0us/step\n"
          ],
          "name": "stdout"
        }
      ]
    },
    {
      "cell_type": "code",
      "metadata": {
        "id": "zZL9SCGSzJFx",
        "outputId": "9fdb9d8b-c71e-44e1-b950-e8f90e21ad55",
        "colab": {
          "base_uri": "https://localhost:8080/",
          "height": 35
        }
      },
      "source": [
        "len(train_data)"
      ],
      "execution_count": 3,
      "outputs": [
        {
          "output_type": "execute_result",
          "data": {
            "text/plain": [
              "8982"
            ]
          },
          "metadata": {
            "tags": []
          },
          "execution_count": 3
        }
      ]
    },
    {
      "cell_type": "code",
      "metadata": {
        "id": "gFhY4zYwzRfl",
        "outputId": "7dc06a0f-71db-43fc-b0de-1f673cb9b55c",
        "colab": {
          "base_uri": "https://localhost:8080/",
          "height": 35
        }
      },
      "source": [
        "len(test_data)"
      ],
      "execution_count": 4,
      "outputs": [
        {
          "output_type": "execute_result",
          "data": {
            "text/plain": [
              "2246"
            ]
          },
          "metadata": {
            "tags": []
          },
          "execution_count": 4
        }
      ]
    },
    {
      "cell_type": "code",
      "metadata": {
        "id": "QvuNuy-lzTKC",
        "outputId": "1136bfe5-3d82-49ee-a241-12242d5e9bfb",
        "colab": {
          "base_uri": "https://localhost:8080/",
          "height": 581
        }
      },
      "source": [
        "train_data[10]"
      ],
      "execution_count": 5,
      "outputs": [
        {
          "output_type": "execute_result",
          "data": {
            "text/plain": [
              "[1,\n",
              " 245,\n",
              " 273,\n",
              " 207,\n",
              " 156,\n",
              " 53,\n",
              " 74,\n",
              " 160,\n",
              " 26,\n",
              " 14,\n",
              " 46,\n",
              " 296,\n",
              " 26,\n",
              " 39,\n",
              " 74,\n",
              " 2979,\n",
              " 3554,\n",
              " 14,\n",
              " 46,\n",
              " 4689,\n",
              " 4329,\n",
              " 86,\n",
              " 61,\n",
              " 3499,\n",
              " 4795,\n",
              " 14,\n",
              " 61,\n",
              " 451,\n",
              " 4329,\n",
              " 17,\n",
              " 12]"
            ]
          },
          "metadata": {
            "tags": []
          },
          "execution_count": 5
        }
      ]
    },
    {
      "cell_type": "code",
      "metadata": {
        "id": "l06uS7JFzXRB",
        "outputId": "db83887c-5006-421f-fa17-2c242cb12962",
        "colab": {
          "base_uri": "https://localhost:8080/",
          "height": 92
        }
      },
      "source": [
        "word_index= reuters.get_word_index()\n",
        "reverse_word_index= dict([(value,key) for (key,value) in word_index.items()])\n",
        "decoded_newswire=' '.join([reverse_word_index.get(i-3,'?') for i in train_data[0]])\n",
        "print(decoded_newswire)"
      ],
      "execution_count": 6,
      "outputs": [
        {
          "output_type": "stream",
          "text": [
            "Downloading data from https://storage.googleapis.com/tensorflow/tf-keras-datasets/reuters_word_index.json\n",
            "557056/550378 [==============================] - 0s 0us/step\n",
            "? ? ? said as a result of its december acquisition of space co it expects earnings per share in 1987 of 1 15 to 1 30 dlrs per share up from 70 cts in 1986 the company said pretax net should rise to nine to 10 mln dlrs from six mln dlrs in 1986 and rental operation revenues to 19 to 22 mln dlrs from 12 5 mln dlrs it said cash flow per share this year should be 2 50 to three dlrs reuter 3\n"
          ],
          "name": "stdout"
        }
      ]
    },
    {
      "cell_type": "code",
      "metadata": {
        "id": "h7rFt7t_1CB_",
        "outputId": "7e73b35e-b298-402c-f892-7c0b8a47d324",
        "colab": {
          "base_uri": "https://localhost:8080/",
          "height": 35
        }
      },
      "source": [
        "train_labels[10]"
      ],
      "execution_count": 7,
      "outputs": [
        {
          "output_type": "execute_result",
          "data": {
            "text/plain": [
              "3"
            ]
          },
          "metadata": {
            "tags": []
          },
          "execution_count": 7
        }
      ]
    },
    {
      "cell_type": "code",
      "metadata": {
        "id": "WKPXuZ1f1ZP5"
      },
      "source": [
        "import numpy as np\n",
        "\n",
        "def vectorize_sequences(sequences,dimension=10000):\n",
        "    results= np.zeros((len(sequences),dimension))\n",
        "    for i,sequence in enumerate(sequences):\n",
        "        results[i,sequence]=1.\n",
        "    return results"
      ],
      "execution_count": 8,
      "outputs": []
    },
    {
      "cell_type": "code",
      "metadata": {
        "id": "gRRNbGGu2zb3"
      },
      "source": [
        "x_train= vectorize_sequences(train_data)\n",
        "x_test= vectorize_sequences(test_data)"
      ],
      "execution_count": 9,
      "outputs": []
    },
    {
      "cell_type": "code",
      "metadata": {
        "id": "v4G1WfEg28uo",
        "outputId": "57025f7b-4596-4bb7-8bbb-716c9b0f0cee",
        "colab": {
          "base_uri": "https://localhost:8080/",
          "height": 35
        }
      },
      "source": [
        "x_test.shape"
      ],
      "execution_count": 10,
      "outputs": [
        {
          "output_type": "execute_result",
          "data": {
            "text/plain": [
              "(2246, 10000)"
            ]
          },
          "metadata": {
            "tags": []
          },
          "execution_count": 10
        }
      ]
    },
    {
      "cell_type": "code",
      "metadata": {
        "id": "cGBnL8pU2_sm"
      },
      "source": [
        "def to_one_hot(labels,dimension=46):\n",
        "    results= np.zeros((len(labels), dimension))\n",
        "    for i,label in enumerate(labels):\n",
        "        results[i,label]=1.\n",
        "    return results"
      ],
      "execution_count": 11,
      "outputs": []
    },
    {
      "cell_type": "code",
      "metadata": {
        "id": "Uwwh9ohZ4vgw"
      },
      "source": [
        "one_hot_train_labels=to_one_hot(train_labels)\n",
        "one_hot_test_labels=to_one_hot(test_labels)"
      ],
      "execution_count": 12,
      "outputs": []
    },
    {
      "cell_type": "code",
      "metadata": {
        "id": "qLmwKeuW470E"
      },
      "source": [
        "from keras.utils.np_utils import to_categorical\n",
        "\n",
        "hot_train_labels= to_categorical(train_labels)\n",
        "hot_test_labels= to_categorical(test_labels)"
      ],
      "execution_count": 13,
      "outputs": []
    },
    {
      "cell_type": "code",
      "metadata": {
        "id": "_1ermcfV5Rks"
      },
      "source": [
        "from keras import models\n",
        "from keras import layers\n",
        "model= models.Sequential()\n",
        "model.add(layers.Dense(64, activation='relu',input_shape=(10000,)))\n",
        "model.add(layers.Dense(64,activation='relu'))\n",
        "model.add(layers.Dense(46,activation='softmax'))"
      ],
      "execution_count": 14,
      "outputs": []
    },
    {
      "cell_type": "code",
      "metadata": {
        "id": "W9jQPSz1-kRM"
      },
      "source": [
        "model.compile(optimizer='rmsprop',\n",
        "              loss='categorical_crossentropy',\n",
        "              metrics=['accuracy'])"
      ],
      "execution_count": 15,
      "outputs": []
    },
    {
      "cell_type": "code",
      "metadata": {
        "id": "qIwmtpSO-0VG"
      },
      "source": [
        "x_val= x_train[:1000]\n",
        "partial_x_train= x_train[1000:]\n",
        "\n",
        "y_val= hot_train_labels[:1000]\n",
        "partial_y_train= hot_train_labels[1000:]"
      ],
      "execution_count": 16,
      "outputs": []
    },
    {
      "cell_type": "code",
      "metadata": {
        "id": "VZHkyidvJ9qW",
        "outputId": "cf00f7ef-918a-48c3-f0c3-1d36566d83e5",
        "colab": {
          "base_uri": "https://localhost:8080/",
          "height": 745
        }
      },
      "source": [
        "history= model.fit(partial_x_train,\n",
        "                   partial_y_train,\n",
        "                   epochs=20,\n",
        "                   batch_size=20,\n",
        "                   validation_data=(x_val,y_val))"
      ],
      "execution_count": 17,
      "outputs": [
        {
          "output_type": "stream",
          "text": [
            "Epoch 1/20\n",
            "400/400 [==============================] - 3s 8ms/step - loss: 1.3808 - accuracy: 0.6984 - val_loss: 1.0227 - val_accuracy: 0.7650\n",
            "Epoch 2/20\n",
            "400/400 [==============================] - 3s 8ms/step - loss: 0.7438 - accuracy: 0.8384 - val_loss: 0.8809 - val_accuracy: 0.8140\n",
            "Epoch 3/20\n",
            "400/400 [==============================] - 3s 8ms/step - loss: 0.4859 - accuracy: 0.8951 - val_loss: 0.8515 - val_accuracy: 0.8310\n",
            "Epoch 4/20\n",
            "400/400 [==============================] - 3s 8ms/step - loss: 0.3408 - accuracy: 0.9248 - val_loss: 0.9685 - val_accuracy: 0.8200\n",
            "Epoch 5/20\n",
            "400/400 [==============================] - 3s 8ms/step - loss: 0.2711 - accuracy: 0.9355 - val_loss: 1.0654 - val_accuracy: 0.8140\n",
            "Epoch 6/20\n",
            "400/400 [==============================] - 3s 8ms/step - loss: 0.2343 - accuracy: 0.9474 - val_loss: 1.1797 - val_accuracy: 0.8030\n",
            "Epoch 7/20\n",
            "400/400 [==============================] - 3s 8ms/step - loss: 0.2065 - accuracy: 0.9518 - val_loss: 1.4193 - val_accuracy: 0.7850\n",
            "Epoch 8/20\n",
            "400/400 [==============================] - 3s 8ms/step - loss: 0.1905 - accuracy: 0.9529 - val_loss: 1.3093 - val_accuracy: 0.8100\n",
            "Epoch 9/20\n",
            "400/400 [==============================] - 3s 8ms/step - loss: 0.1769 - accuracy: 0.9558 - val_loss: 1.4397 - val_accuracy: 0.8000\n",
            "Epoch 10/20\n",
            "400/400 [==============================] - 3s 8ms/step - loss: 0.1679 - accuracy: 0.9550 - val_loss: 1.4496 - val_accuracy: 0.7750\n",
            "Epoch 11/20\n",
            "400/400 [==============================] - 3s 8ms/step - loss: 0.1592 - accuracy: 0.9553 - val_loss: 1.6875 - val_accuracy: 0.8020\n",
            "Epoch 12/20\n",
            "400/400 [==============================] - 3s 8ms/step - loss: 0.1549 - accuracy: 0.9569 - val_loss: 1.6997 - val_accuracy: 0.8070\n",
            "Epoch 13/20\n",
            "400/400 [==============================] - 3s 8ms/step - loss: 0.1504 - accuracy: 0.9577 - val_loss: 1.7592 - val_accuracy: 0.7980\n",
            "Epoch 14/20\n",
            "400/400 [==============================] - 3s 8ms/step - loss: 0.1443 - accuracy: 0.9567 - val_loss: 1.7811 - val_accuracy: 0.7950\n",
            "Epoch 15/20\n",
            "400/400 [==============================] - 3s 8ms/step - loss: 0.1435 - accuracy: 0.9579 - val_loss: 1.9374 - val_accuracy: 0.7900\n",
            "Epoch 16/20\n",
            "400/400 [==============================] - 4s 9ms/step - loss: 0.1368 - accuracy: 0.9593 - val_loss: 2.1413 - val_accuracy: 0.7900\n",
            "Epoch 17/20\n",
            "400/400 [==============================] - 4s 9ms/step - loss: 0.1315 - accuracy: 0.9583 - val_loss: 1.9109 - val_accuracy: 0.7920\n",
            "Epoch 18/20\n",
            "400/400 [==============================] - 4s 9ms/step - loss: 0.1370 - accuracy: 0.9594 - val_loss: 1.9737 - val_accuracy: 0.7780\n",
            "Epoch 19/20\n",
            "400/400 [==============================] - 3s 8ms/step - loss: 0.1301 - accuracy: 0.9585 - val_loss: 2.1883 - val_accuracy: 0.7910\n",
            "Epoch 20/20\n",
            "400/400 [==============================] - 3s 8ms/step - loss: 0.1260 - accuracy: 0.9588 - val_loss: 2.3115 - val_accuracy: 0.7720\n"
          ],
          "name": "stdout"
        }
      ]
    },
    {
      "cell_type": "code",
      "metadata": {
        "id": "4T9Jj0rXKUt2",
        "outputId": "aa3ec354-cca1-42c7-9048-69b3c2b64b5a",
        "colab": {
          "base_uri": "https://localhost:8080/",
          "height": 35
        }
      },
      "source": [
        "print(history)"
      ],
      "execution_count": 18,
      "outputs": [
        {
          "output_type": "stream",
          "text": [
            "<tensorflow.python.keras.callbacks.History object at 0x7f5e91813518>\n"
          ],
          "name": "stdout"
        }
      ]
    },
    {
      "cell_type": "code",
      "metadata": {
        "id": "xnr8rmXwKl6o",
        "outputId": "ecb03ac1-2c63-41c1-e0e7-609ac099ae30",
        "colab": {
          "base_uri": "https://localhost:8080/",
          "height": 35
        }
      },
      "source": [
        "history_dict=history.history\n",
        "history_dict.keys()"
      ],
      "execution_count": 19,
      "outputs": [
        {
          "output_type": "execute_result",
          "data": {
            "text/plain": [
              "dict_keys(['loss', 'accuracy', 'val_loss', 'val_accuracy'])"
            ]
          },
          "metadata": {
            "tags": []
          },
          "execution_count": 19
        }
      ]
    },
    {
      "cell_type": "code",
      "metadata": {
        "id": "ikMsMDI1KMqT",
        "outputId": "633478f6-862e-4d7c-96cd-85521747e81f",
        "colab": {
          "base_uri": "https://localhost:8080/",
          "height": 295
        }
      },
      "source": [
        "import matplotlib.pyplot as plt\n",
        "loss= history.history['loss']\n",
        "val_loss= history.history['val_loss']\n",
        "\n",
        "epochs= range(1, len(loss)+1)\n",
        "\n",
        "plt.plot(epochs,loss,'bo',label='Training loss')\n",
        "plt.plot(epochs,val_loss,'r',label='Validation loss')\n",
        "plt.title('Training and Validation loss')\n",
        "plt.xlabel('Epochs')\n",
        "plt.ylabel('Loss')\n",
        "plt.legend()\n",
        "plt.show()"
      ],
      "execution_count": 20,
      "outputs": [
        {
          "output_type": "display_data",
          "data": {
            "image/png": "[encoded data removed]",
            "text/plain": [
              "<Figure size 432x288 with 1 Axes>"
            ]
          },
          "metadata": {
            "tags": [],
            "needs_background": "light"
          }
        }
      ]
    },
    {
      "cell_type": "code",
      "metadata": {
        "id": "lhQYJYNMM5FS",
        "outputId": "5ebfdf8f-5370-411c-e8c2-4c52d04f5b0a",
        "colab": {
          "base_uri": "https://localhost:8080/",
          "height": 295
        }
      },
      "source": [
        "plt.clf()\n",
        "\n",
        "acc= history.history['accuracy']\n",
        "val_acc= history.history['val_accuracy']\n",
        "\n",
        "plt.plot(epochs,acc,'ro',label='Training acc')\n",
        "plt.plot(epochs,val_acc,'b',label='Validation acc')\n",
        "plt.title('Training and validation acc')\n",
        "plt.xlabel('Epochs')\n",
        "plt.ylabel('Loss')\n",
        "plt.legend()\n",
        "plt.show()"
      ],
      "execution_count": 21,
      "outputs": [
        {
          "output_type": "display_data",
          "data": {
            "image/png": "[encoded data removed]",
            "text/plain": [
              "<Figure size 432x288 with 1 Axes>"
            ]
          },
          "metadata": {
            "tags": [],
            "needs_background": "light"
          }
        }
      ]
    },
    {
      "cell_type": "code",
      "metadata": {
        "id": "ev51mOAPNn5e",
        "outputId": "114f5592-c0cc-4030-c350-6802e8bca1cb",
        "colab": {
          "base_uri": "https://localhost:8080/",
          "height": 381
        }
      },
      "source": [
        "model= models.Sequential()\n",
        "model.add(layers.Dense(64,activation='relu',input_shape=(10000,)))\n",
        "model.add(layers.Dense(64,activation='relu'))\n",
        "model.add(layers.Dense(46,activation='softmax'))\n",
        "\n",
        "model.compile(optimizer='rmsprop',\n",
        "              loss='categorical_crossentropy',\n",
        "              metrics=['accuracy'])\n",
        "\n",
        "model.fit(partial_x_train,\n",
        "          partial_y_train,\n",
        "          epochs=9,\n",
        "          batch_size=512,\n",
        "          validation_data=(x_val,y_val))\n",
        "\n",
        "results= model.evaluate(x_test,hot_test_labels)\n",
        "print(results)"
      ],
      "execution_count": 22,
      "outputs": [
        {
          "output_type": "stream",
          "text": [
            "Epoch 1/9\n",
            "16/16 [==============================] - 1s 54ms/step - loss: 2.5596 - accuracy: 0.5323 - val_loss: 1.6999 - val_accuracy: 0.6260\n",
            "Epoch 2/9\n",
            "16/16 [==============================] - 1s 41ms/step - loss: 1.3953 - accuracy: 0.7016 - val_loss: 1.2886 - val_accuracy: 0.7100\n",
            "Epoch 3/9\n",
            "16/16 [==============================] - 1s 43ms/step - loss: 1.0371 - accuracy: 0.7749 - val_loss: 1.1259 - val_accuracy: 0.7470\n",
            "Epoch 4/9\n",
            "16/16 [==============================] - 1s 44ms/step - loss: 0.8090 - accuracy: 0.8264 - val_loss: 1.0371 - val_accuracy: 0.7850\n",
            "Epoch 5/9\n",
            "16/16 [==============================] - 1s 43ms/step - loss: 0.6434 - accuracy: 0.8672 - val_loss: 0.9469 - val_accuracy: 0.8110\n",
            "Epoch 6/9\n",
            "16/16 [==============================] - 1s 43ms/step - loss: 0.5117 - accuracy: 0.8943 - val_loss: 0.9352 - val_accuracy: 0.7880\n",
            "Epoch 7/9\n",
            "16/16 [==============================] - 1s 45ms/step - loss: 0.4074 - accuracy: 0.9159 - val_loss: 0.8792 - val_accuracy: 0.8120\n",
            "Epoch 8/9\n",
            "16/16 [==============================] - 1s 45ms/step - loss: 0.3318 - accuracy: 0.9271 - val_loss: 0.8946 - val_accuracy: 0.8080\n",
            "Epoch 9/9\n",
            "16/16 [==============================] - 1s 45ms/step - loss: 0.2748 - accuracy: 0.9391 - val_loss: 0.9068 - val_accuracy: 0.8100\n",
            "71/71 [==============================] - 0s 3ms/step - loss: 1.0023 - accuracy: 0.7845\n",
            "[1.0022947788238525, 0.7845057845115662]\n"
          ],
          "name": "stdout"
        }
      ]
    },
    {
      "cell_type": "code",
      "metadata": {
        "id": "gd1avKbXSMws",
        "outputId": "96091ff3-6dda-4497-e0cc-9ca414e3cfb6",
        "colab": {
          "base_uri": "https://localhost:8080/",
          "height": 35
        }
      },
      "source": [
        "import copy\n",
        "test_labels_copy= copy.copy(test_labels)\n",
        "np.random.shuffle(test_labels_copy)\n",
        "hits_array= np.array(test_labels)== np.array(test_labels_copy)\n",
        "float(np.sum(hits_array))/len(test_labels)\n"
      ],
      "execution_count": 23,
      "outputs": [
        {
          "output_type": "execute_result",
          "data": {
            "text/plain": [
              "0.18967052537845058"
            ]
          },
          "metadata": {
            "tags": []
          },
          "execution_count": 23
        }
      ]
    },
    {
      "cell_type": "code",
      "metadata": {
        "id": "GP1DIuAfT489"
      },
      "source": [
        "predictions= model.predict(x_test)"
      ],
      "execution_count": 24,
      "outputs": []
    },
    {
      "cell_type": "code",
      "metadata": {
        "id": "nbVg7YCmUztj",
        "outputId": "efc4372a-f9dc-41b6-a30e-c0ec23a5c074",
        "colab": {
          "base_uri": "https://localhost:8080/",
          "height": 35
        }
      },
      "source": [
        "predictions[0].shape"
      ],
      "execution_count": 25,
      "outputs": [
        {
          "output_type": "execute_result",
          "data": {
            "text/plain": [
              "(46,)"
            ]
          },
          "metadata": {
            "tags": []
          },
          "execution_count": 25
        }
      ]
    },
    {
      "cell_type": "code",
      "metadata": {
        "id": "0ajgU2DGU2WJ",
        "outputId": "70097ebe-2570-4c97-ff6b-b9b779755de7",
        "colab": {
          "base_uri": "https://localhost:8080/",
          "height": 35
        }
      },
      "source": [
        "np.sum(predictions[0])"
      ],
      "execution_count": 26,
      "outputs": [
        {
          "output_type": "execute_result",
          "data": {
            "text/plain": [
              "1.0"
            ]
          },
          "metadata": {
            "tags": []
          },
          "execution_count": 26
        }
      ]
    },
    {
      "cell_type": "code",
      "metadata": {
        "id": "XPPgPfeQU6WJ",
        "outputId": "3551d436-4e66-450c-9216-1a71e02f68b9",
        "colab": {
          "base_uri": "https://localhost:8080/",
          "height": 35
        }
      },
      "source": [
        "np.argmax(predictions[0])"
      ],
      "execution_count": 27,
      "outputs": [
        {
          "output_type": "execute_result",
          "data": {
            "text/plain": [
              "3"
            ]
          },
          "metadata": {
            "tags": []
          },
          "execution_count": 27
        }
      ]
    },
    {
      "cell_type": "code",
      "metadata": {
        "id": "Wb5X48KoVAvg"
      },
      "source": [
        "y_train= np.array(train_labels)\n",
        "y_test= np.array(test_labels)"
      ],
      "execution_count": 28,
      "outputs": []
    },
    {
      "cell_type": "code",
      "metadata": {
        "id": "BzXvWjQMTCC1"
      },
      "source": [
        "model.compile(optimizer='rmsprop',\n",
        "              loss='sparse_categorical_crossentropy',\n",
        "              metrics=['acc'])"
      ],
      "execution_count": 29,
      "outputs": []
    },
    {
      "cell_type": "code",
      "metadata": {
        "id": "kecMN0GvT3TZ"
      },
      "source": [
        "model=models.Sequential()\n",
        "model.add(layers.Dense(64,activation='relu',input_shape=(10000,)))\n",
        "model.add(layers.Dense(4,activation='relu'))\n",
        "model.add(layers.Dense(46,activation='softmax'))"
      ],
      "execution_count": 32,
      "outputs": []
    },
    {
      "cell_type": "code",
      "metadata": {
        "id": "eid9r0cNUt_h",
        "outputId": "68b67de4-ad46-4e57-bcb7-289909f7c43d",
        "colab": {
          "base_uri": "https://localhost:8080/",
          "height": 763
        }
      },
      "source": [
        "model.compile(optimizer='rmsprop',\n",
        "              loss='categorical_crossentropy',\n",
        "              metrics=['accuracy'])\n",
        "\n",
        "model.fit(partial_x_train,\n",
        "          partial_y_train,\n",
        "          epochs=20,\n",
        "          batch_size=128,\n",
        "          validation_data=(x_val,y_val))"
      ],
      "execution_count": 34,
      "outputs": [
        {
          "output_type": "stream",
          "text": [
            "Epoch 1/20\n",
            "63/63 [==============================] - 1s 18ms/step - loss: 2.9765 - accuracy: 0.2620 - val_loss: 2.2745 - val_accuracy: 0.5890\n",
            "Epoch 2/20\n",
            "63/63 [==============================] - 1s 16ms/step - loss: 1.7465 - accuracy: 0.6206 - val_loss: 1.5515 - val_accuracy: 0.6210\n",
            "Epoch 3/20\n",
            "63/63 [==============================] - 1s 16ms/step - loss: 1.3281 - accuracy: 0.6527 - val_loss: 1.4378 - val_accuracy: 0.6320\n",
            "Epoch 4/20\n",
            "63/63 [==============================] - 1s 16ms/step - loss: 1.1534 - accuracy: 0.6726 - val_loss: 1.3695 - val_accuracy: 0.6590\n",
            "Epoch 5/20\n",
            "63/63 [==============================] - 1s 16ms/step - loss: 1.0199 - accuracy: 0.7389 - val_loss: 1.3402 - val_accuracy: 0.6850\n",
            "Epoch 6/20\n",
            "63/63 [==============================] - 1s 16ms/step - loss: 0.9130 - accuracy: 0.7643 - val_loss: 1.3552 - val_accuracy: 0.6870\n",
            "Epoch 7/20\n",
            "63/63 [==============================] - 1s 16ms/step - loss: 0.8262 - accuracy: 0.7839 - val_loss: 1.3335 - val_accuracy: 0.6960\n",
            "Epoch 8/20\n",
            "63/63 [==============================] - 1s 16ms/step - loss: 0.7555 - accuracy: 0.8009 - val_loss: 1.3604 - val_accuracy: 0.7010\n",
            "Epoch 9/20\n",
            "63/63 [==============================] - 1s 17ms/step - loss: 0.6944 - accuracy: 0.8163 - val_loss: 1.3777 - val_accuracy: 0.7040\n",
            "Epoch 10/20\n",
            "63/63 [==============================] - 1s 16ms/step - loss: 0.6403 - accuracy: 0.8325 - val_loss: 1.4509 - val_accuracy: 0.7010\n",
            "Epoch 11/20\n",
            "63/63 [==============================] - 1s 16ms/step - loss: 0.5986 - accuracy: 0.8433 - val_loss: 1.4894 - val_accuracy: 0.7050\n",
            "Epoch 12/20\n",
            "63/63 [==============================] - 1s 16ms/step - loss: 0.5575 - accuracy: 0.8515 - val_loss: 1.4899 - val_accuracy: 0.7120\n",
            "Epoch 13/20\n",
            "63/63 [==============================] - 1s 16ms/step - loss: 0.5229 - accuracy: 0.8563 - val_loss: 1.5389 - val_accuracy: 0.7080\n",
            "Epoch 14/20\n",
            "63/63 [==============================] - 1s 16ms/step - loss: 0.4957 - accuracy: 0.8626 - val_loss: 1.5937 - val_accuracy: 0.7060\n",
            "Epoch 15/20\n",
            "63/63 [==============================] - 1s 16ms/step - loss: 0.4691 - accuracy: 0.8708 - val_loss: 1.6323 - val_accuracy: 0.7120\n",
            "Epoch 16/20\n",
            "63/63 [==============================] - 1s 16ms/step - loss: 0.4504 - accuracy: 0.8752 - val_loss: 1.7207 - val_accuracy: 0.7100\n",
            "Epoch 17/20\n",
            "63/63 [==============================] - 1s 16ms/step - loss: 0.4302 - accuracy: 0.8815 - val_loss: 1.7277 - val_accuracy: 0.7090\n",
            "Epoch 18/20\n",
            "63/63 [==============================] - 1s 16ms/step - loss: 0.4102 - accuracy: 0.8839 - val_loss: 1.7890 - val_accuracy: 0.7080\n",
            "Epoch 19/20\n",
            "63/63 [==============================] - 1s 16ms/step - loss: 0.3973 - accuracy: 0.8870 - val_loss: 1.8545 - val_accuracy: 0.7090\n",
            "Epoch 20/20\n",
            "63/63 [==============================] - 1s 16ms/step - loss: 0.3849 - accuracy: 0.8891 - val_loss: 1.9226 - val_accuracy: 0.7070\n"
          ],
          "name": "stdout"
        },
        {
          "output_type": "execute_result",
          "data": {
            "text/plain": [
              "<tensorflow.python.keras.callbacks.History at 0x7f5e907ac208>"
            ]
          },
          "metadata": {
            "tags": []
          },
          "execution_count": 34
        }
      ]
    }
  ]
}